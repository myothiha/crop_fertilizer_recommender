{
 "cells": [
  {
   "cell_type": "code",
   "execution_count": 245,
   "metadata": {},
   "outputs": [],
   "source": [
    "import pandas as pd\n",
    "import numpy as np\n",
    "import matplotlib.pyplot as plt\n",
    "import seaborn as sns"
   ]
  },
  {
   "cell_type": "markdown",
   "metadata": {},
   "source": [
    "#### Datasets:\n",
    "- https://www.kaggle.com/datasets/sanchitagholap/crop-and-fertilizer-dataset-for-westernmaharashtra\n",
    "- https://www.kaggle.com/datasets/gdabhishek/fertilizer-prediction\n",
    "- https://www.kaggle.com/datasets/coder0311/crops/data"
   ]
  },
  {
   "cell_type": "code",
   "execution_count": 246,
   "metadata": {},
   "outputs": [
    {
     "data": {
      "text/html": [
       "<div>\n",
       "<style scoped>\n",
       "    .dataframe tbody tr th:only-of-type {\n",
       "        vertical-align: middle;\n",
       "    }\n",
       "\n",
       "    .dataframe tbody tr th {\n",
       "        vertical-align: top;\n",
       "    }\n",
       "\n",
       "    .dataframe thead th {\n",
       "        text-align: right;\n",
       "    }\n",
       "</style>\n",
       "<table border=\"1\" class=\"dataframe\">\n",
       "  <thead>\n",
       "    <tr style=\"text-align: right;\">\n",
       "      <th></th>\n",
       "      <th>District_Name</th>\n",
       "      <th>Soil_color</th>\n",
       "      <th>Nitrogen</th>\n",
       "      <th>Phosphorus</th>\n",
       "      <th>Potassium</th>\n",
       "      <th>pH</th>\n",
       "      <th>Rainfall</th>\n",
       "      <th>Temperature</th>\n",
       "      <th>Crop</th>\n",
       "      <th>Fertilizer</th>\n",
       "      <th>Link</th>\n",
       "    </tr>\n",
       "  </thead>\n",
       "  <tbody>\n",
       "    <tr>\n",
       "      <th>0</th>\n",
       "      <td>Kolhapur</td>\n",
       "      <td>Black</td>\n",
       "      <td>75</td>\n",
       "      <td>50</td>\n",
       "      <td>100</td>\n",
       "      <td>6.5</td>\n",
       "      <td>1000</td>\n",
       "      <td>20</td>\n",
       "      <td>Sugarcane</td>\n",
       "      <td>Urea</td>\n",
       "      <td>https://youtu.be/2t5Am0xLTOo</td>\n",
       "    </tr>\n",
       "    <tr>\n",
       "      <th>1</th>\n",
       "      <td>Kolhapur</td>\n",
       "      <td>Black</td>\n",
       "      <td>80</td>\n",
       "      <td>50</td>\n",
       "      <td>100</td>\n",
       "      <td>6.5</td>\n",
       "      <td>1000</td>\n",
       "      <td>20</td>\n",
       "      <td>Sugarcane</td>\n",
       "      <td>Urea</td>\n",
       "      <td>https://youtu.be/2t5Am0xLTOo</td>\n",
       "    </tr>\n",
       "    <tr>\n",
       "      <th>2</th>\n",
       "      <td>Kolhapur</td>\n",
       "      <td>Black</td>\n",
       "      <td>85</td>\n",
       "      <td>50</td>\n",
       "      <td>100</td>\n",
       "      <td>6.5</td>\n",
       "      <td>1000</td>\n",
       "      <td>20</td>\n",
       "      <td>Sugarcane</td>\n",
       "      <td>Urea</td>\n",
       "      <td>https://youtu.be/2t5Am0xLTOo</td>\n",
       "    </tr>\n",
       "    <tr>\n",
       "      <th>3</th>\n",
       "      <td>Kolhapur</td>\n",
       "      <td>Black</td>\n",
       "      <td>90</td>\n",
       "      <td>50</td>\n",
       "      <td>100</td>\n",
       "      <td>6.5</td>\n",
       "      <td>1000</td>\n",
       "      <td>20</td>\n",
       "      <td>Sugarcane</td>\n",
       "      <td>Urea</td>\n",
       "      <td>https://youtu.be/2t5Am0xLTOo</td>\n",
       "    </tr>\n",
       "    <tr>\n",
       "      <th>4</th>\n",
       "      <td>Kolhapur</td>\n",
       "      <td>Black</td>\n",
       "      <td>95</td>\n",
       "      <td>50</td>\n",
       "      <td>100</td>\n",
       "      <td>6.5</td>\n",
       "      <td>1000</td>\n",
       "      <td>20</td>\n",
       "      <td>Sugarcane</td>\n",
       "      <td>Urea</td>\n",
       "      <td>https://youtu.be/2t5Am0xLTOo</td>\n",
       "    </tr>\n",
       "  </tbody>\n",
       "</table>\n",
       "</div>"
      ],
      "text/plain": [
       "  District_Name Soil_color  Nitrogen  Phosphorus  Potassium   pH  Rainfall  \\\n",
       "0      Kolhapur      Black        75          50        100  6.5      1000   \n",
       "1      Kolhapur      Black        80          50        100  6.5      1000   \n",
       "2      Kolhapur      Black        85          50        100  6.5      1000   \n",
       "3      Kolhapur      Black        90          50        100  6.5      1000   \n",
       "4      Kolhapur      Black        95          50        100  6.5      1000   \n",
       "\n",
       "   Temperature       Crop Fertilizer                          Link  \n",
       "0           20  Sugarcane       Urea  https://youtu.be/2t5Am0xLTOo  \n",
       "1           20  Sugarcane       Urea  https://youtu.be/2t5Am0xLTOo  \n",
       "2           20  Sugarcane       Urea  https://youtu.be/2t5Am0xLTOo  \n",
       "3           20  Sugarcane       Urea  https://youtu.be/2t5Am0xLTOo  \n",
       "4           20  Sugarcane       Urea  https://youtu.be/2t5Am0xLTOo  "
      ]
     },
     "execution_count": 246,
     "metadata": {},
     "output_type": "execute_result"
    }
   ],
   "source": [
    "# dataset link: https://www.kaggle.com/datasets/sanchitagholap/crop-and-fertilizer-dataset-for-westernmaharashtra\n",
    "df1 = pd.read_csv(\"datasets/fertilizer_dataset.csv\")\n",
    "df1.head()"
   ]
  },
  {
   "cell_type": "code",
   "execution_count": 247,
   "metadata": {},
   "outputs": [
    {
     "data": {
      "text/html": [
       "<div>\n",
       "<style scoped>\n",
       "    .dataframe tbody tr th:only-of-type {\n",
       "        vertical-align: middle;\n",
       "    }\n",
       "\n",
       "    .dataframe tbody tr th {\n",
       "        vertical-align: top;\n",
       "    }\n",
       "\n",
       "    .dataframe thead th {\n",
       "        text-align: right;\n",
       "    }\n",
       "</style>\n",
       "<table border=\"1\" class=\"dataframe\">\n",
       "  <thead>\n",
       "    <tr style=\"text-align: right;\">\n",
       "      <th></th>\n",
       "      <th>Unnamed: 0</th>\n",
       "      <th>District_Name</th>\n",
       "      <th>Soil_color</th>\n",
       "      <th>Nitrogen</th>\n",
       "      <th>Phosphorous</th>\n",
       "      <th>Potassium</th>\n",
       "      <th>pH</th>\n",
       "      <th>Rainfall</th>\n",
       "      <th>Temperature</th>\n",
       "      <th>Crop</th>\n",
       "      <th>Fertilizer</th>\n",
       "      <th>Link</th>\n",
       "      <th>Humidity</th>\n",
       "      <th>Moisture</th>\n",
       "      <th>Soil Type</th>\n",
       "    </tr>\n",
       "  </thead>\n",
       "  <tbody>\n",
       "    <tr>\n",
       "      <th>0</th>\n",
       "      <td>0</td>\n",
       "      <td>Kolhapur</td>\n",
       "      <td>Black</td>\n",
       "      <td>75</td>\n",
       "      <td>50</td>\n",
       "      <td>100</td>\n",
       "      <td>6.5</td>\n",
       "      <td>1000.0</td>\n",
       "      <td>20</td>\n",
       "      <td>Sugarcane</td>\n",
       "      <td>Urea</td>\n",
       "      <td>https://youtu.be/2t5Am0xLTOo</td>\n",
       "      <td>0</td>\n",
       "      <td>NaN</td>\n",
       "      <td>NaN</td>\n",
       "    </tr>\n",
       "    <tr>\n",
       "      <th>1</th>\n",
       "      <td>1</td>\n",
       "      <td>Kolhapur</td>\n",
       "      <td>Black</td>\n",
       "      <td>80</td>\n",
       "      <td>50</td>\n",
       "      <td>100</td>\n",
       "      <td>6.5</td>\n",
       "      <td>1000.0</td>\n",
       "      <td>20</td>\n",
       "      <td>Sugarcane</td>\n",
       "      <td>Urea</td>\n",
       "      <td>https://youtu.be/2t5Am0xLTOo</td>\n",
       "      <td>0</td>\n",
       "      <td>NaN</td>\n",
       "      <td>NaN</td>\n",
       "    </tr>\n",
       "    <tr>\n",
       "      <th>2</th>\n",
       "      <td>2</td>\n",
       "      <td>Kolhapur</td>\n",
       "      <td>Black</td>\n",
       "      <td>85</td>\n",
       "      <td>50</td>\n",
       "      <td>100</td>\n",
       "      <td>6.5</td>\n",
       "      <td>1000.0</td>\n",
       "      <td>20</td>\n",
       "      <td>Sugarcane</td>\n",
       "      <td>Urea</td>\n",
       "      <td>https://youtu.be/2t5Am0xLTOo</td>\n",
       "      <td>0</td>\n",
       "      <td>NaN</td>\n",
       "      <td>NaN</td>\n",
       "    </tr>\n",
       "    <tr>\n",
       "      <th>3</th>\n",
       "      <td>3</td>\n",
       "      <td>Kolhapur</td>\n",
       "      <td>Black</td>\n",
       "      <td>90</td>\n",
       "      <td>50</td>\n",
       "      <td>100</td>\n",
       "      <td>6.5</td>\n",
       "      <td>1000.0</td>\n",
       "      <td>20</td>\n",
       "      <td>Sugarcane</td>\n",
       "      <td>Urea</td>\n",
       "      <td>https://youtu.be/2t5Am0xLTOo</td>\n",
       "      <td>0</td>\n",
       "      <td>NaN</td>\n",
       "      <td>NaN</td>\n",
       "    </tr>\n",
       "    <tr>\n",
       "      <th>4</th>\n",
       "      <td>4</td>\n",
       "      <td>Kolhapur</td>\n",
       "      <td>Black</td>\n",
       "      <td>95</td>\n",
       "      <td>50</td>\n",
       "      <td>100</td>\n",
       "      <td>6.5</td>\n",
       "      <td>1000.0</td>\n",
       "      <td>20</td>\n",
       "      <td>Sugarcane</td>\n",
       "      <td>Urea</td>\n",
       "      <td>https://youtu.be/2t5Am0xLTOo</td>\n",
       "      <td>0</td>\n",
       "      <td>NaN</td>\n",
       "      <td>NaN</td>\n",
       "    </tr>\n",
       "  </tbody>\n",
       "</table>\n",
       "</div>"
      ],
      "text/plain": [
       "   Unnamed: 0 District_Name Soil_color  Nitrogen  Phosphorous  Potassium   pH  \\\n",
       "0           0      Kolhapur      Black        75           50        100  6.5   \n",
       "1           1      Kolhapur      Black        80           50        100  6.5   \n",
       "2           2      Kolhapur      Black        85           50        100  6.5   \n",
       "3           3      Kolhapur      Black        90           50        100  6.5   \n",
       "4           4      Kolhapur      Black        95           50        100  6.5   \n",
       "\n",
       "   Rainfall  Temperature       Crop Fertilizer                          Link  \\\n",
       "0    1000.0           20  Sugarcane       Urea  https://youtu.be/2t5Am0xLTOo   \n",
       "1    1000.0           20  Sugarcane       Urea  https://youtu.be/2t5Am0xLTOo   \n",
       "2    1000.0           20  Sugarcane       Urea  https://youtu.be/2t5Am0xLTOo   \n",
       "3    1000.0           20  Sugarcane       Urea  https://youtu.be/2t5Am0xLTOo   \n",
       "4    1000.0           20  Sugarcane       Urea  https://youtu.be/2t5Am0xLTOo   \n",
       "\n",
       "   Humidity  Moisture Soil Type  \n",
       "0         0       NaN       NaN  \n",
       "1         0       NaN       NaN  \n",
       "2         0       NaN       NaN  \n",
       "3         0       NaN       NaN  \n",
       "4         0       NaN       NaN  "
      ]
     },
     "execution_count": 247,
     "metadata": {},
     "output_type": "execute_result"
    }
   ],
   "source": [
    "df1 = pd.read_csv(\"datasets/merge_fertilized.csv\")\n",
    "df1.head()"
   ]
  },
  {
   "cell_type": "code",
   "execution_count": 248,
   "metadata": {},
   "outputs": [
    {
     "data": {
      "text/plain": [
       "(4718, 15)"
      ]
     },
     "execution_count": 248,
     "metadata": {},
     "output_type": "execute_result"
    }
   ],
   "source": [
    "df1.shape"
   ]
  },
  {
   "cell_type": "code",
   "execution_count": 249,
   "metadata": {},
   "outputs": [
    {
     "data": {
      "text/plain": [
       "<AxesSubplot:xlabel='Fertilizer', ylabel='count'>"
      ]
     },
     "execution_count": 249,
     "metadata": {},
     "output_type": "execute_result"
    },
    {
     "data": {
      "image/png": "[encoded data removed]",
      "text/plain": [
       "<Figure size 640x480 with 1 Axes>"
      ]
     },
     "metadata": {},
     "output_type": "display_data"
    }
   ],
   "source": [
    "sns.countplot(data=df1, x='Fertilizer')"
   ]
  },
  {
   "cell_type": "code",
   "execution_count": 250,
   "metadata": {},
   "outputs": [
    {
     "data": {
      "text/html": [
       "<div>\n",
       "<style scoped>\n",
       "    .dataframe tbody tr th:only-of-type {\n",
       "        vertical-align: middle;\n",
       "    }\n",
       "\n",
       "    .dataframe tbody tr th {\n",
       "        vertical-align: top;\n",
       "    }\n",
       "\n",
       "    .dataframe thead th {\n",
       "        text-align: right;\n",
       "    }\n",
       "</style>\n",
       "<table border=\"1\" class=\"dataframe\">\n",
       "  <thead>\n",
       "    <tr style=\"text-align: right;\">\n",
       "      <th></th>\n",
       "      <th>Temparature</th>\n",
       "      <th>Humidity</th>\n",
       "      <th>Moisture</th>\n",
       "      <th>Soil Type</th>\n",
       "      <th>Crop Type</th>\n",
       "      <th>Nitrogen</th>\n",
       "      <th>Potassium</th>\n",
       "      <th>Phosphorous</th>\n",
       "      <th>Fertilizer Name</th>\n",
       "    </tr>\n",
       "  </thead>\n",
       "  <tbody>\n",
       "    <tr>\n",
       "      <th>0</th>\n",
       "      <td>26</td>\n",
       "      <td>52</td>\n",
       "      <td>38</td>\n",
       "      <td>Sandy</td>\n",
       "      <td>Maize</td>\n",
       "      <td>37</td>\n",
       "      <td>0</td>\n",
       "      <td>0</td>\n",
       "      <td>Urea</td>\n",
       "    </tr>\n",
       "    <tr>\n",
       "      <th>1</th>\n",
       "      <td>29</td>\n",
       "      <td>52</td>\n",
       "      <td>45</td>\n",
       "      <td>Loamy</td>\n",
       "      <td>Sugarcane</td>\n",
       "      <td>12</td>\n",
       "      <td>0</td>\n",
       "      <td>36</td>\n",
       "      <td>DAP</td>\n",
       "    </tr>\n",
       "    <tr>\n",
       "      <th>2</th>\n",
       "      <td>34</td>\n",
       "      <td>65</td>\n",
       "      <td>62</td>\n",
       "      <td>Black</td>\n",
       "      <td>Cotton</td>\n",
       "      <td>7</td>\n",
       "      <td>9</td>\n",
       "      <td>30</td>\n",
       "      <td>14-35-14</td>\n",
       "    </tr>\n",
       "    <tr>\n",
       "      <th>3</th>\n",
       "      <td>32</td>\n",
       "      <td>62</td>\n",
       "      <td>34</td>\n",
       "      <td>Red</td>\n",
       "      <td>Tobacco</td>\n",
       "      <td>22</td>\n",
       "      <td>0</td>\n",
       "      <td>20</td>\n",
       "      <td>28-28</td>\n",
       "    </tr>\n",
       "    <tr>\n",
       "      <th>4</th>\n",
       "      <td>28</td>\n",
       "      <td>54</td>\n",
       "      <td>46</td>\n",
       "      <td>Clayey</td>\n",
       "      <td>Paddy</td>\n",
       "      <td>35</td>\n",
       "      <td>0</td>\n",
       "      <td>0</td>\n",
       "      <td>Urea</td>\n",
       "    </tr>\n",
       "  </tbody>\n",
       "</table>\n",
       "</div>"
      ],
      "text/plain": [
       "   Temparature  Humidity   Moisture Soil Type  Crop Type  Nitrogen  Potassium  \\\n",
       "0           26         52        38     Sandy      Maize        37          0   \n",
       "1           29         52        45     Loamy  Sugarcane        12          0   \n",
       "2           34         65        62     Black     Cotton         7          9   \n",
       "3           32         62        34       Red    Tobacco        22          0   \n",
       "4           28         54        46    Clayey      Paddy        35          0   \n",
       "\n",
       "   Phosphorous Fertilizer Name  \n",
       "0            0            Urea  \n",
       "1           36             DAP  \n",
       "2           30        14-35-14  \n",
       "3           20           28-28  \n",
       "4            0            Urea  "
      ]
     },
     "execution_count": 250,
     "metadata": {},
     "output_type": "execute_result"
    }
   ],
   "source": [
    "# dataset link: https://www.kaggle.com/datasets/gdabhishek/fertilizer-prediction\n",
    "df2 = pd.read_csv(\"datasets/fertilizer.csv\")\n",
    "df2.head()"
   ]
  },
  {
   "cell_type": "code",
   "execution_count": 251,
   "metadata": {},
   "outputs": [
    {
     "data": {
      "text/plain": [
       "(205, 9)"
      ]
     },
     "execution_count": 251,
     "metadata": {},
     "output_type": "execute_result"
    }
   ],
   "source": [
    "df2.shape"
   ]
  },
  {
   "cell_type": "code",
   "execution_count": 252,
   "metadata": {},
   "outputs": [
    {
     "data": {
      "text/plain": [
       "(4718, 15)"
      ]
     },
     "execution_count": 252,
     "metadata": {},
     "output_type": "execute_result"
    }
   ],
   "source": [
    "df1.shape"
   ]
  },
  {
   "cell_type": "code",
   "execution_count": 253,
   "metadata": {},
   "outputs": [],
   "source": [
    "require_crops = ['rice', 'maize', 'chickpea', 'kidneybeans', 'pigeonpeas',\n",
    "       'mothbeans', 'mungbean', 'blackgram', 'lentil', 'pomegranate',\n",
    "       'banana', 'mango', 'grapes', 'watermelon', 'muskmelon', 'apple',\n",
    "       'orange', 'papaya', 'coconut', 'cotton', 'jute', 'coffee']"
   ]
  },
  {
   "cell_type": "code",
   "execution_count": 254,
   "metadata": {},
   "outputs": [],
   "source": [
    "df1['Crop'] = df1['Crop'].str.lower()"
   ]
  },
  {
   "cell_type": "code",
   "execution_count": 255,
   "metadata": {},
   "outputs": [
    {
     "data": {
      "text/html": [
       "<div>\n",
       "<style scoped>\n",
       "    .dataframe tbody tr th:only-of-type {\n",
       "        vertical-align: middle;\n",
       "    }\n",
       "\n",
       "    .dataframe tbody tr th {\n",
       "        vertical-align: top;\n",
       "    }\n",
       "\n",
       "    .dataframe thead th {\n",
       "        text-align: right;\n",
       "    }\n",
       "</style>\n",
       "<table border=\"1\" class=\"dataframe\">\n",
       "  <thead>\n",
       "    <tr style=\"text-align: right;\">\n",
       "      <th></th>\n",
       "      <th>Unnamed: 0</th>\n",
       "      <th>District_Name</th>\n",
       "      <th>Soil_color</th>\n",
       "      <th>Nitrogen</th>\n",
       "      <th>Phosphorous</th>\n",
       "      <th>Potassium</th>\n",
       "      <th>pH</th>\n",
       "      <th>Rainfall</th>\n",
       "      <th>Temperature</th>\n",
       "      <th>Crop</th>\n",
       "      <th>Fertilizer</th>\n",
       "      <th>Link</th>\n",
       "      <th>Humidity</th>\n",
       "      <th>Moisture</th>\n",
       "      <th>Soil Type</th>\n",
       "    </tr>\n",
       "  </thead>\n",
       "  <tbody>\n",
       "    <tr>\n",
       "      <th>0</th>\n",
       "      <td>0</td>\n",
       "      <td>Kolhapur</td>\n",
       "      <td>Black</td>\n",
       "      <td>75</td>\n",
       "      <td>50</td>\n",
       "      <td>100</td>\n",
       "      <td>6.5</td>\n",
       "      <td>1000.0</td>\n",
       "      <td>20</td>\n",
       "      <td>sugarcane</td>\n",
       "      <td>Urea</td>\n",
       "      <td>https://youtu.be/2t5Am0xLTOo</td>\n",
       "      <td>0</td>\n",
       "      <td>NaN</td>\n",
       "      <td>NaN</td>\n",
       "    </tr>\n",
       "    <tr>\n",
       "      <th>1</th>\n",
       "      <td>1</td>\n",
       "      <td>Kolhapur</td>\n",
       "      <td>Black</td>\n",
       "      <td>80</td>\n",
       "      <td>50</td>\n",
       "      <td>100</td>\n",
       "      <td>6.5</td>\n",
       "      <td>1000.0</td>\n",
       "      <td>20</td>\n",
       "      <td>sugarcane</td>\n",
       "      <td>Urea</td>\n",
       "      <td>https://youtu.be/2t5Am0xLTOo</td>\n",
       "      <td>0</td>\n",
       "      <td>NaN</td>\n",
       "      <td>NaN</td>\n",
       "    </tr>\n",
       "    <tr>\n",
       "      <th>2</th>\n",
       "      <td>2</td>\n",
       "      <td>Kolhapur</td>\n",
       "      <td>Black</td>\n",
       "      <td>85</td>\n",
       "      <td>50</td>\n",
       "      <td>100</td>\n",
       "      <td>6.5</td>\n",
       "      <td>1000.0</td>\n",
       "      <td>20</td>\n",
       "      <td>sugarcane</td>\n",
       "      <td>Urea</td>\n",
       "      <td>https://youtu.be/2t5Am0xLTOo</td>\n",
       "      <td>0</td>\n",
       "      <td>NaN</td>\n",
       "      <td>NaN</td>\n",
       "    </tr>\n",
       "    <tr>\n",
       "      <th>3</th>\n",
       "      <td>3</td>\n",
       "      <td>Kolhapur</td>\n",
       "      <td>Black</td>\n",
       "      <td>90</td>\n",
       "      <td>50</td>\n",
       "      <td>100</td>\n",
       "      <td>6.5</td>\n",
       "      <td>1000.0</td>\n",
       "      <td>20</td>\n",
       "      <td>sugarcane</td>\n",
       "      <td>Urea</td>\n",
       "      <td>https://youtu.be/2t5Am0xLTOo</td>\n",
       "      <td>0</td>\n",
       "      <td>NaN</td>\n",
       "      <td>NaN</td>\n",
       "    </tr>\n",
       "    <tr>\n",
       "      <th>4</th>\n",
       "      <td>4</td>\n",
       "      <td>Kolhapur</td>\n",
       "      <td>Black</td>\n",
       "      <td>95</td>\n",
       "      <td>50</td>\n",
       "      <td>100</td>\n",
       "      <td>6.5</td>\n",
       "      <td>1000.0</td>\n",
       "      <td>20</td>\n",
       "      <td>sugarcane</td>\n",
       "      <td>Urea</td>\n",
       "      <td>https://youtu.be/2t5Am0xLTOo</td>\n",
       "      <td>0</td>\n",
       "      <td>NaN</td>\n",
       "      <td>NaN</td>\n",
       "    </tr>\n",
       "    <tr>\n",
       "      <th>...</th>\n",
       "      <td>...</td>\n",
       "      <td>...</td>\n",
       "      <td>...</td>\n",
       "      <td>...</td>\n",
       "      <td>...</td>\n",
       "      <td>...</td>\n",
       "      <td>...</td>\n",
       "      <td>...</td>\n",
       "      <td>...</td>\n",
       "      <td>...</td>\n",
       "      <td>...</td>\n",
       "      <td>...</td>\n",
       "      <td>...</td>\n",
       "      <td>...</td>\n",
       "      <td>...</td>\n",
       "    </tr>\n",
       "    <tr>\n",
       "      <th>4713</th>\n",
       "      <td>200</td>\n",
       "      <td>NaN</td>\n",
       "      <td>NaN</td>\n",
       "      <td>15</td>\n",
       "      <td>37</td>\n",
       "      <td>0</td>\n",
       "      <td>NaN</td>\n",
       "      <td>NaN</td>\n",
       "      <td>29</td>\n",
       "      <td>millets</td>\n",
       "      <td>DAP</td>\n",
       "      <td>NaN</td>\n",
       "      <td>0</td>\n",
       "      <td>34.0</td>\n",
       "      <td>Sandy</td>\n",
       "    </tr>\n",
       "    <tr>\n",
       "      <th>4714</th>\n",
       "      <td>201</td>\n",
       "      <td>NaN</td>\n",
       "      <td>NaN</td>\n",
       "      <td>13</td>\n",
       "      <td>13</td>\n",
       "      <td>0</td>\n",
       "      <td>NaN</td>\n",
       "      <td>NaN</td>\n",
       "      <td>27</td>\n",
       "      <td>pulses</td>\n",
       "      <td>20-20</td>\n",
       "      <td>NaN</td>\n",
       "      <td>0</td>\n",
       "      <td>30.0</td>\n",
       "      <td>Clayey</td>\n",
       "    </tr>\n",
       "    <tr>\n",
       "      <th>4715</th>\n",
       "      <td>202</td>\n",
       "      <td>NaN</td>\n",
       "      <td>NaN</td>\n",
       "      <td>10</td>\n",
       "      <td>32</td>\n",
       "      <td>7</td>\n",
       "      <td>NaN</td>\n",
       "      <td>NaN</td>\n",
       "      <td>30</td>\n",
       "      <td>sugarcane</td>\n",
       "      <td>14-35-14</td>\n",
       "      <td>NaN</td>\n",
       "      <td>0</td>\n",
       "      <td>58.0</td>\n",
       "      <td>Loamy</td>\n",
       "    </tr>\n",
       "    <tr>\n",
       "      <th>4716</th>\n",
       "      <td>203</td>\n",
       "      <td>NaN</td>\n",
       "      <td>NaN</td>\n",
       "      <td>22</td>\n",
       "      <td>24</td>\n",
       "      <td>0</td>\n",
       "      <td>NaN</td>\n",
       "      <td>NaN</td>\n",
       "      <td>32</td>\n",
       "      <td>tobacco</td>\n",
       "      <td>28-28</td>\n",
       "      <td>NaN</td>\n",
       "      <td>0</td>\n",
       "      <td>34.0</td>\n",
       "      <td>Red</td>\n",
       "    </tr>\n",
       "    <tr>\n",
       "      <th>4717</th>\n",
       "      <td>204</td>\n",
       "      <td>NaN</td>\n",
       "      <td>NaN</td>\n",
       "      <td>35</td>\n",
       "      <td>0</td>\n",
       "      <td>0</td>\n",
       "      <td>NaN</td>\n",
       "      <td>NaN</td>\n",
       "      <td>34</td>\n",
       "      <td>sugarcane</td>\n",
       "      <td>Urea</td>\n",
       "      <td>NaN</td>\n",
       "      <td>0</td>\n",
       "      <td>60.0</td>\n",
       "      <td>Black</td>\n",
       "    </tr>\n",
       "  </tbody>\n",
       "</table>\n",
       "<p>4718 rows × 15 columns</p>\n",
       "</div>"
      ],
      "text/plain": [
       "      Unnamed: 0 District_Name Soil_color  Nitrogen  Phosphorous  Potassium  \\\n",
       "0              0      Kolhapur      Black        75           50        100   \n",
       "1              1      Kolhapur      Black        80           50        100   \n",
       "2              2      Kolhapur      Black        85           50        100   \n",
       "3              3      Kolhapur      Black        90           50        100   \n",
       "4              4      Kolhapur      Black        95           50        100   \n",
       "...          ...           ...        ...       ...          ...        ...   \n",
       "4713         200           NaN        NaN        15           37          0   \n",
       "4714         201           NaN        NaN        13           13          0   \n",
       "4715         202           NaN        NaN        10           32          7   \n",
       "4716         203           NaN        NaN        22           24          0   \n",
       "4717         204           NaN        NaN        35            0          0   \n",
       "\n",
       "       pH  Rainfall  Temperature       Crop Fertilizer  \\\n",
       "0     6.5    1000.0           20  sugarcane       Urea   \n",
       "1     6.5    1000.0           20  sugarcane       Urea   \n",
       "2     6.5    1000.0           20  sugarcane       Urea   \n",
       "3     6.5    1000.0           20  sugarcane       Urea   \n",
       "4     6.5    1000.0           20  sugarcane       Urea   \n",
       "...   ...       ...          ...        ...        ...   \n",
       "4713  NaN       NaN           29    millets        DAP   \n",
       "4714  NaN       NaN           27     pulses      20-20   \n",
       "4715  NaN       NaN           30  sugarcane   14-35-14   \n",
       "4716  NaN       NaN           32    tobacco      28-28   \n",
       "4717  NaN       NaN           34  sugarcane       Urea   \n",
       "\n",
       "                              Link  Humidity  Moisture Soil Type  \n",
       "0     https://youtu.be/2t5Am0xLTOo         0       NaN       NaN  \n",
       "1     https://youtu.be/2t5Am0xLTOo         0       NaN       NaN  \n",
       "2     https://youtu.be/2t5Am0xLTOo         0       NaN       NaN  \n",
       "3     https://youtu.be/2t5Am0xLTOo         0       NaN       NaN  \n",
       "4     https://youtu.be/2t5Am0xLTOo         0       NaN       NaN  \n",
       "...                            ...       ...       ...       ...  \n",
       "4713                           NaN         0      34.0     Sandy  \n",
       "4714                           NaN         0      30.0    Clayey  \n",
       "4715                           NaN         0      58.0     Loamy  \n",
       "4716                           NaN         0      34.0       Red  \n",
       "4717                           NaN         0      60.0     Black  \n",
       "\n",
       "[4718 rows x 15 columns]"
      ]
     },
     "execution_count": 255,
     "metadata": {},
     "output_type": "execute_result"
    }
   ],
   "source": [
    "df1.replace({'a': \n",
    "    {}\n",
    "})"
   ]
  },
  {
   "cell_type": "code",
   "execution_count": 256,
   "metadata": {},
   "outputs": [
    {
     "data": {
      "text/plain": [
       "array(['sugarcane', 'jowar', 'cotton', 'rice', 'wheat', 'groundnut',\n",
       "       'maize', 'tur', 'urad', 'moong', 'gram', 'masoor', 'soybean',\n",
       "       'ginger', 'turmeric', 'grapes', 'tobacco', 'paddy', 'barley',\n",
       "       'millets', 'oil seeds', 'pulses', 'ground nuts'], dtype=object)"
      ]
     },
     "execution_count": 256,
     "metadata": {},
     "output_type": "execute_result"
    }
   ],
   "source": [
    "df1['Crop'].unique()"
   ]
  },
  {
   "cell_type": "code",
   "execution_count": 257,
   "metadata": {},
   "outputs": [
    {
     "data": {
      "text/plain": [
       "array(['Maize', 'Sugarcane', 'Cotton', 'Tobacco', 'Paddy', 'Barley',\n",
       "       'Wheat', 'Millets', 'Oil seeds', 'Pulses', 'Ground Nuts'],\n",
       "      dtype=object)"
      ]
     },
     "execution_count": 257,
     "metadata": {},
     "output_type": "execute_result"
    }
   ],
   "source": [
    "df2['Crop Type'].unique()"
   ]
  },
  {
   "cell_type": "code",
   "execution_count": 258,
   "metadata": {},
   "outputs": [
    {
     "data": {
      "text/plain": [
       "Index(['Unnamed: 0', 'District_Name', 'Soil_color', 'Nitrogen', 'Phosphorous',\n",
       "       'Potassium', 'pH', 'Rainfall', 'Temperature', 'Crop', 'Fertilizer',\n",
       "       'Link', 'Humidity', 'Moisture', 'Soil Type'],\n",
       "      dtype='object')"
      ]
     },
     "execution_count": 258,
     "metadata": {},
     "output_type": "execute_result"
    }
   ],
   "source": [
    "df1.columns"
   ]
  },
  {
   "cell_type": "code",
   "execution_count": 259,
   "metadata": {},
   "outputs": [],
   "source": [
    "from sklearn.preprocessing import LabelEncoder\n",
    "le = LabelEncoder()\n",
    "# df1['Soil_color'] = le.fit_transform(df1['Soil_color'])\n",
    "df1['Crop'] = le.fit_transform(df1['Crop'])"
   ]
  },
  {
   "cell_type": "code",
   "execution_count": 260,
   "metadata": {},
   "outputs": [
    {
     "data": {
      "text/plain": [
       "array(['barley', 'cotton', 'ginger', 'gram', 'grapes', 'ground nuts',\n",
       "       'groundnut', 'jowar', 'maize', 'masoor', 'millets', 'moong',\n",
       "       'oil seeds', 'paddy', 'pulses', 'rice', 'soybean', 'sugarcane',\n",
       "       'tobacco', 'tur', 'turmeric', 'urad', 'wheat'], dtype=object)"
      ]
     },
     "execution_count": 260,
     "metadata": {},
     "output_type": "execute_result"
    }
   ],
   "source": [
    "le.classes_"
   ]
  },
  {
   "cell_type": "code",
   "execution_count": 261,
   "metadata": {},
   "outputs": [
    {
     "name": "stdout",
     "output_type": "stream",
     "text": [
      "<class 'pandas.core.frame.DataFrame'>\n",
      "RangeIndex: 4718 entries, 0 to 4717\n",
      "Data columns (total 15 columns):\n",
      " #   Column         Non-Null Count  Dtype  \n",
      "---  ------         --------------  -----  \n",
      " 0   Unnamed: 0     4718 non-null   int64  \n",
      " 1   District_Name  4513 non-null   object \n",
      " 2   Soil_color     4513 non-null   object \n",
      " 3   Nitrogen       4718 non-null   int64  \n",
      " 4   Phosphorous    4718 non-null   int64  \n",
      " 5   Potassium      4718 non-null   int64  \n",
      " 6   pH             4513 non-null   float64\n",
      " 7   Rainfall       4513 non-null   float64\n",
      " 8   Temperature    4718 non-null   int64  \n",
      " 9   Crop           4718 non-null   int64  \n",
      " 10  Fertilizer     4718 non-null   object \n",
      " 11  Link           4513 non-null   object \n",
      " 12  Humidity       4718 non-null   int64  \n",
      " 13  Moisture       205 non-null    float64\n",
      " 14  Soil Type      205 non-null    object \n",
      "dtypes: float64(3), int64(7), object(5)\n",
      "memory usage: 553.0+ KB\n"
     ]
    }
   ],
   "source": [
    "df1.info()"
   ]
  },
  {
   "cell_type": "code",
   "execution_count": 262,
   "metadata": {},
   "outputs": [
    {
     "data": {
      "text/plain": [
       "Index(['Unnamed: 0', 'District_Name', 'Soil_color', 'Nitrogen', 'Phosphorous',\n",
       "       'Potassium', 'pH', 'Rainfall', 'Temperature', 'Crop', 'Fertilizer',\n",
       "       'Link', 'Humidity', 'Moisture', 'Soil Type'],\n",
       "      dtype='object')"
      ]
     },
     "execution_count": 262,
     "metadata": {},
     "output_type": "execute_result"
    }
   ],
   "source": [
    "df1.columns"
   ]
  },
  {
   "cell_type": "code",
   "execution_count": 263,
   "metadata": {},
   "outputs": [],
   "source": [
    "features = ['Nitrogen', 'Phosphorous', 'Temperature', 'Humidity', 'Crop']\n",
    "X = df1[features]\n",
    "y = df1[['Fertilizer']]"
   ]
  },
  {
   "cell_type": "code",
   "execution_count": 264,
   "metadata": {},
   "outputs": [
    {
     "data": {
      "text/plain": [
       "Index(['Temparature', 'Humidity ', 'Moisture', 'Soil Type', 'Crop Type',\n",
       "       'Nitrogen', 'Potassium', 'Phosphorous', 'Fertilizer Name'],\n",
       "      dtype='object')"
      ]
     },
     "execution_count": 264,
     "metadata": {},
     "output_type": "execute_result"
    }
   ],
   "source": [
    "df2.columns"
   ]
  },
  {
   "cell_type": "code",
   "execution_count": 265,
   "metadata": {},
   "outputs": [],
   "source": [
    "# features = ['Temparature', 'Humidity ', 'Crop Type', 'Nitrogen', 'Phosphorous']\n",
    "# X = df2[features]\n",
    "# y = df2[['Fertilizer Name']]"
   ]
  },
  {
   "cell_type": "code",
   "execution_count": 266,
   "metadata": {},
   "outputs": [],
   "source": [
    "# X['Crop Type'].unique()"
   ]
  },
  {
   "cell_type": "code",
   "execution_count": 267,
   "metadata": {},
   "outputs": [
    {
     "data": {
      "text/html": [
       "<div>\n",
       "<style scoped>\n",
       "    .dataframe tbody tr th:only-of-type {\n",
       "        vertical-align: middle;\n",
       "    }\n",
       "\n",
       "    .dataframe tbody tr th {\n",
       "        vertical-align: top;\n",
       "    }\n",
       "\n",
       "    .dataframe thead th {\n",
       "        text-align: right;\n",
       "    }\n",
       "</style>\n",
       "<table border=\"1\" class=\"dataframe\">\n",
       "  <thead>\n",
       "    <tr style=\"text-align: right;\">\n",
       "      <th></th>\n",
       "      <th>Nitrogen</th>\n",
       "      <th>Phosphorous</th>\n",
       "      <th>Temperature</th>\n",
       "      <th>Humidity</th>\n",
       "      <th>Crop</th>\n",
       "    </tr>\n",
       "  </thead>\n",
       "  <tbody>\n",
       "    <tr>\n",
       "      <th>0</th>\n",
       "      <td>75</td>\n",
       "      <td>50</td>\n",
       "      <td>20</td>\n",
       "      <td>0</td>\n",
       "      <td>17</td>\n",
       "    </tr>\n",
       "    <tr>\n",
       "      <th>1</th>\n",
       "      <td>80</td>\n",
       "      <td>50</td>\n",
       "      <td>20</td>\n",
       "      <td>0</td>\n",
       "      <td>17</td>\n",
       "    </tr>\n",
       "    <tr>\n",
       "      <th>2</th>\n",
       "      <td>85</td>\n",
       "      <td>50</td>\n",
       "      <td>20</td>\n",
       "      <td>0</td>\n",
       "      <td>17</td>\n",
       "    </tr>\n",
       "    <tr>\n",
       "      <th>3</th>\n",
       "      <td>90</td>\n",
       "      <td>50</td>\n",
       "      <td>20</td>\n",
       "      <td>0</td>\n",
       "      <td>17</td>\n",
       "    </tr>\n",
       "    <tr>\n",
       "      <th>4</th>\n",
       "      <td>95</td>\n",
       "      <td>50</td>\n",
       "      <td>20</td>\n",
       "      <td>0</td>\n",
       "      <td>17</td>\n",
       "    </tr>\n",
       "    <tr>\n",
       "      <th>...</th>\n",
       "      <td>...</td>\n",
       "      <td>...</td>\n",
       "      <td>...</td>\n",
       "      <td>...</td>\n",
       "      <td>...</td>\n",
       "    </tr>\n",
       "    <tr>\n",
       "      <th>4713</th>\n",
       "      <td>15</td>\n",
       "      <td>37</td>\n",
       "      <td>29</td>\n",
       "      <td>0</td>\n",
       "      <td>10</td>\n",
       "    </tr>\n",
       "    <tr>\n",
       "      <th>4714</th>\n",
       "      <td>13</td>\n",
       "      <td>13</td>\n",
       "      <td>27</td>\n",
       "      <td>0</td>\n",
       "      <td>14</td>\n",
       "    </tr>\n",
       "    <tr>\n",
       "      <th>4715</th>\n",
       "      <td>10</td>\n",
       "      <td>32</td>\n",
       "      <td>30</td>\n",
       "      <td>0</td>\n",
       "      <td>17</td>\n",
       "    </tr>\n",
       "    <tr>\n",
       "      <th>4716</th>\n",
       "      <td>22</td>\n",
       "      <td>24</td>\n",
       "      <td>32</td>\n",
       "      <td>0</td>\n",
       "      <td>18</td>\n",
       "    </tr>\n",
       "    <tr>\n",
       "      <th>4717</th>\n",
       "      <td>35</td>\n",
       "      <td>0</td>\n",
       "      <td>34</td>\n",
       "      <td>0</td>\n",
       "      <td>17</td>\n",
       "    </tr>\n",
       "  </tbody>\n",
       "</table>\n",
       "<p>4718 rows × 5 columns</p>\n",
       "</div>"
      ],
      "text/plain": [
       "      Nitrogen  Phosphorous  Temperature  Humidity  Crop\n",
       "0           75           50           20         0    17\n",
       "1           80           50           20         0    17\n",
       "2           85           50           20         0    17\n",
       "3           90           50           20         0    17\n",
       "4           95           50           20         0    17\n",
       "...        ...          ...          ...       ...   ...\n",
       "4713        15           37           29         0    10\n",
       "4714        13           13           27         0    14\n",
       "4715        10           32           30         0    17\n",
       "4716        22           24           32         0    18\n",
       "4717        35            0           34         0    17\n",
       "\n",
       "[4718 rows x 5 columns]"
      ]
     },
     "execution_count": 267,
     "metadata": {},
     "output_type": "execute_result"
    }
   ],
   "source": [
    "X"
   ]
  },
  {
   "cell_type": "code",
   "execution_count": 268,
   "metadata": {},
   "outputs": [],
   "source": [
    "from sklearn.preprocessing import LabelEncoder\n",
    "\n",
    "le = LabelEncoder()\n",
    "\n",
    "# X['Crop Type'] = le.fit_transform(X['Crop Type'])"
   ]
  },
  {
   "cell_type": "code",
   "execution_count": 269,
   "metadata": {},
   "outputs": [],
   "source": [
    "# y = le.fit_transform(y)"
   ]
  },
  {
   "cell_type": "code",
   "execution_count": 285,
   "metadata": {},
   "outputs": [],
   "source": [
    "from sklearn.model_selection import train_test_split\n",
    "\n",
    "X_train, X_test, y_train, y_test = train_test_split(X, y, test_size=0.1, random_state=42, stratify=y)"
   ]
  },
  {
   "cell_type": "code",
   "execution_count": 286,
   "metadata": {},
   "outputs": [
    {
     "name": "stdout",
     "output_type": "stream",
     "text": [
      "X_train (4246, 5)\n",
      "y_train (4246, 1)\n",
      "X_test (472, 5)\n",
      "y_test (472, 1)\n"
     ]
    }
   ],
   "source": [
    "print('X_train', X_train.shape)\n",
    "print('y_train', y_train.shape)\n",
    "print('X_test', X_test.shape)\n",
    "print('y_test', y_test.shape)"
   ]
  },
  {
   "cell_type": "code",
   "execution_count": 292,
   "metadata": {},
   "outputs": [
    {
     "name": "stderr",
     "output_type": "stream",
     "text": [
      "/Users/myothiha/opt/anaconda3/lib/python3.9/site-packages/sklearn/base.py:1151: DataConversionWarning: A column-vector y was passed when a 1d array was expected. Please change the shape of y to (n_samples,), for example using ravel().\n",
      "  return fit_method(estimator, *args, **kwargs)\n"
     ]
    },
    {
     "data": {
      "text/html": [
       "<style>#sk-container-id-11 {color: black;}#sk-container-id-11 pre{padding: 0;}#sk-container-id-11 div.sk-toggleable {background-color: white;}#sk-container-id-11 label.sk-toggleable__label {cursor: pointer;display: block;width: 100%;margin-bottom: 0;padding: 0.3em;box-sizing: border-box;text-align: center;}#sk-container-id-11 label.sk-toggleable__label-arrow:before {content: \"▸\";float: left;margin-right: 0.25em;color: #696969;}#sk-container-id-11 label.sk-toggleable__label-arrow:hover:before {color: black;}#sk-container-id-11 div.sk-estimator:hover label.sk-toggleable__label-arrow:before {color: black;}#sk-container-id-11 div.sk-toggleable__content {max-height: 0;max-width: 0;overflow: hidden;text-align: left;background-color: #f0f8ff;}#sk-container-id-11 div.sk-toggleable__content pre {margin: 0.2em;color: black;border-radius: 0.25em;background-color: #f0f8ff;}#sk-container-id-11 input.sk-toggleable__control:checked~div.sk-toggleable__content {max-height: 200px;max-width: 100%;overflow: auto;}#sk-container-id-11 input.sk-toggleable__control:checked~label.sk-toggleable__label-arrow:before {content: \"▾\";}#sk-container-id-11 div.sk-estimator input.sk-toggleable__control:checked~label.sk-toggleable__label {background-color: #d4ebff;}#sk-container-id-11 div.sk-label input.sk-toggleable__control:checked~label.sk-toggleable__label {background-color: #d4ebff;}#sk-container-id-11 input.sk-hidden--visually {border: 0;clip: rect(1px 1px 1px 1px);clip: rect(1px, 1px, 1px, 1px);height: 1px;margin: -1px;overflow: hidden;padding: 0;position: absolute;width: 1px;}#sk-container-id-11 div.sk-estimator {font-family: monospace;background-color: #f0f8ff;border: 1px dotted black;border-radius: 0.25em;box-sizing: border-box;margin-bottom: 0.5em;}#sk-container-id-11 div.sk-estimator:hover {background-color: #d4ebff;}#sk-container-id-11 div.sk-parallel-item::after {content: \"\";width: 100%;border-bottom: 1px solid gray;flex-grow: 1;}#sk-container-id-11 div.sk-label:hover label.sk-toggleable__label {background-color: #d4ebff;}#sk-container-id-11 div.sk-serial::before {content: \"\";position: absolute;border-left: 1px solid gray;box-sizing: border-box;top: 0;bottom: 0;left: 50%;z-index: 0;}#sk-container-id-11 div.sk-serial {display: flex;flex-direction: column;align-items: center;background-color: white;padding-right: 0.2em;padding-left: 0.2em;position: relative;}#sk-container-id-11 div.sk-item {position: relative;z-index: 1;}#sk-container-id-11 div.sk-parallel {display: flex;align-items: stretch;justify-content: center;background-color: white;position: relative;}#sk-container-id-11 div.sk-item::before, #sk-container-id-11 div.sk-parallel-item::before {content: \"\";position: absolute;border-left: 1px solid gray;box-sizing: border-box;top: 0;bottom: 0;left: 50%;z-index: -1;}#sk-container-id-11 div.sk-parallel-item {display: flex;flex-direction: column;z-index: 1;position: relative;background-color: white;}#sk-container-id-11 div.sk-parallel-item:first-child::after {align-self: flex-end;width: 50%;}#sk-container-id-11 div.sk-parallel-item:last-child::after {align-self: flex-start;width: 50%;}#sk-container-id-11 div.sk-parallel-item:only-child::after {width: 0;}#sk-container-id-11 div.sk-dashed-wrapped {border: 1px dashed gray;margin: 0 0.4em 0.5em 0.4em;box-sizing: border-box;padding-bottom: 0.4em;background-color: white;}#sk-container-id-11 div.sk-label label {font-family: monospace;font-weight: bold;display: inline-block;line-height: 1.2em;}#sk-container-id-11 div.sk-label-container {text-align: center;}#sk-container-id-11 div.sk-container {/* jupyter's `normalize.less` sets `[hidden] { display: none; }` but bootstrap.min.css set `[hidden] { display: none !important; }` so we also need the `!important` here to be able to override the default hidden behavior on the sphinx rendered scikit-learn.org. See: https://github.com/scikit-learn/scikit-learn/issues/21755 */display: inline-block !important;position: relative;}#sk-container-id-11 div.sk-text-repr-fallback {display: none;}</style><div id=\"sk-container-id-11\" class=\"sk-top-container\"><div class=\"sk-text-repr-fallback\"><pre>RandomForestClassifier()</pre><b>In a Jupyter environment, please rerun this cell to show the HTML representation or trust the notebook. <br />On GitHub, the HTML representation is unable to render, please try loading this page with nbviewer.org.</b></div><div class=\"sk-container\" hidden><div class=\"sk-item\"><div class=\"sk-estimator sk-toggleable\"><input class=\"sk-toggleable__control sk-hidden--visually\" id=\"sk-estimator-id-11\" type=\"checkbox\" checked><label for=\"sk-estimator-id-11\" class=\"sk-toggleable__label sk-toggleable__label-arrow\">RandomForestClassifier</label><div class=\"sk-toggleable__content\"><pre>RandomForestClassifier()</pre></div></div></div></div></div>"
      ],
      "text/plain": [
       "RandomForestClassifier()"
      ]
     },
     "execution_count": 292,
     "metadata": {},
     "output_type": "execute_result"
    }
   ],
   "source": [
    "from sklearn.linear_model import LogisticRegression\n",
    "from sklearn.ensemble import RandomForestClassifier\n",
    "\n",
    "model = RandomForestClassifier()\n",
    "model.fit(X_train, y_train)"
   ]
  },
  {
   "cell_type": "code",
   "execution_count": 293,
   "metadata": {},
   "outputs": [
    {
     "data": {
      "text/plain": [
       "0.674752708431465"
      ]
     },
     "execution_count": 293,
     "metadata": {},
     "output_type": "execute_result"
    }
   ],
   "source": [
    "model.score(X_train, y_train)"
   ]
  },
  {
   "cell_type": "code",
   "execution_count": 294,
   "metadata": {},
   "outputs": [
    {
     "name": "stderr",
     "output_type": "stream",
     "text": [
      "/Users/myothiha/opt/anaconda3/lib/python3.9/site-packages/sklearn/base.py:464: UserWarning: X does not have valid feature names, but RandomForestClassifier was fitted with feature names\n",
      "  warnings.warn(\n"
     ]
    },
    {
     "data": {
      "text/plain": [
       "array([[0.        , 0.        , 0.        , 0.        , 0.        ,\n",
       "        0.        , 0.        , 0.        , 0.        , 0.        ,\n",
       "        0.        , 0.        , 0.        , 0.        , 0.        ,\n",
       "        0.2137619 , 0.        , 0.        , 0.58359524, 0.        ,\n",
       "        0.        , 0.        , 0.20264286, 0.        ]])"
      ]
     },
     "execution_count": 294,
     "metadata": {},
     "output_type": "execute_result"
    }
   ],
   "source": [
    "model.predict_proba([X_test.iloc[0].values])"
   ]
  },
  {
   "cell_type": "code",
   "execution_count": 295,
   "metadata": {},
   "outputs": [
    {
     "data": {
      "text/plain": [
       "array(['MOP', '50:26:26 NPK', '10:26:26 NPK', 'DAP', 'DAP', 'Urea',\n",
       "       'Ammonium Sulphate', 'MOP', 'Chilated Micronutrient', 'Urea',\n",
       "       'MOP', 'White Potash', 'DAP', 'MOP', 'Urea', '28-28',\n",
       "       '12:32:16 NPK', '28-28', 'Magnesium Sulphate', 'Urea', 'DAP',\n",
       "       '20:20:20 NPK', 'MOP', 'Urea', 'DAP', '19:19:19 NPK',\n",
       "       '19:19:19 NPK', 'MOP', '19:19:19 NPK', '50:26:26 NPK', 'MOP',\n",
       "       'Urea', 'Urea', 'Urea', 'Urea', 'Urea', 'MOP', 'MOP', 'Urea',\n",
       "       'DAP', '28-28', 'Urea', '10:10:10 NPK', 'DAP', '10:26:26 NPK',\n",
       "       'Urea', 'DAP', 'Urea', 'Urea', 'Urea', '19:19:19 NPK', 'MOP',\n",
       "       '10:26:26 NPK', 'MOP', '14-35-14', 'Urea', '10:10:10 NPK', 'MOP',\n",
       "       'DAP', 'Urea', 'SSP', '19:19:19 NPK', 'DAP', 'Ammonium Sulphate',\n",
       "       'Urea', 'Urea', 'DAP', 'Chilated Micronutrient', 'Urea', 'DAP',\n",
       "       'Chilated Micronutrient', '13:32:26 NPK', '12:32:16 NPK', 'MOP',\n",
       "       'MOP', 'DAP', 'Urea', 'MOP', 'DAP', 'SSP', 'DAP', '19:19:19 NPK',\n",
       "       'MOP', '19:19:19 NPK', 'Urea', 'MOP', 'Urea', '20-20',\n",
       "       'Magnesium Sulphate', 'Hydrated Lime', 'Magnesium Sulphate',\n",
       "       'Urea', 'MOP', 'Urea', 'MOP', 'Urea', 'SSP', 'DAP', 'Urea',\n",
       "       '13:32:26 NPK', 'DAP', 'DAP', 'Urea', 'MOP', 'Urea', 'MOP', 'Urea',\n",
       "       'Urea', 'Urea', 'Ammonium Sulphate', 'MOP', 'Magnesium Sulphate',\n",
       "       '20-20', 'Urea', 'MOP', 'MOP', '19:19:19 NPK', '19:19:19 NPK',\n",
       "       'Urea', '19:19:19 NPK', 'Urea', 'DAP', 'Urea', '13:32:26 NPK',\n",
       "       '10:26:26 NPK', 'Urea', 'Urea', 'MOP', 'Urea', 'Urea', 'SSP',\n",
       "       'SSP', '10-26-26', '13:32:26 NPK', 'Urea', '19:19:19 NPK', 'Urea',\n",
       "       '14-35-14', 'DAP', 'DAP', 'Magnesium Sulphate', 'DAP', 'MOP',\n",
       "       'Magnesium Sulphate', 'DAP', 'SSP', '19:19:19 NPK', '50:26:26 NPK',\n",
       "       '19:19:19 NPK', 'DAP', 'Urea', '19:19:19 NPK', '10:26:26 NPK',\n",
       "       '19:19:19 NPK', 'MOP', 'SSP', 'Urea', 'Urea', 'MOP', 'Urea',\n",
       "       '50:26:26 NPK', 'Urea', 'SSP', 'MOP', '10:10:10 NPK',\n",
       "       '50:26:26 NPK', '12:32:16 NPK', 'DAP', '19:19:19 NPK', 'DAP',\n",
       "       'MOP', 'Urea', 'Urea', '12:32:16 NPK', 'DAP', 'Urea', 'MOP',\n",
       "       'Urea', 'MOP', 'MOP', 'DAP', '19:19:19 NPK', 'DAP', '19:19:19 NPK',\n",
       "       'DAP', 'DAP', 'Hydrated Lime', 'Magnesium Sulphate', 'Urea',\n",
       "       '19:19:19 NPK', 'Urea', '19:19:19 NPK', '12:32:16 NPK',\n",
       "       '19:19:19 NPK', 'Urea', 'MOP', 'Chilated Micronutrient',\n",
       "       'Magnesium Sulphate', 'Urea', 'Urea', 'SSP', 'Urea', 'Urea',\n",
       "       '19:19:19 NPK', 'Urea', 'DAP', 'Urea', 'MOP', 'Urea',\n",
       "       'Chilated Micronutrient', '14-35-14', 'Urea', '28-28',\n",
       "       'Magnesium Sulphate', 'Magnesium Sulphate', '50:26:26 NPK',\n",
       "       '19:19:19 NPK', 'Urea', 'MOP', 'MOP', 'SSP', 'Urea',\n",
       "       '19:19:19 NPK', 'Urea', '19:19:19 NPK', 'Urea', 'MOP',\n",
       "       '19:19:19 NPK', 'SSP', 'Urea', 'Urea', 'DAP', '13:32:26 NPK',\n",
       "       '19:19:19 NPK', 'DAP', 'MOP', '19:19:19 NPK', 'MOP', 'SSP', 'MOP',\n",
       "       'Urea', 'MOP', 'MOP', 'Urea', 'Magnesium Sulphate', '19:19:19 NPK',\n",
       "       '50:26:26 NPK', '10:26:26 NPK', 'DAP', 'SSP', 'Urea', 'Urea',\n",
       "       'DAP', '19:19:19 NPK', '19:19:19 NPK', 'SSP', 'Magnesium Sulphate',\n",
       "       '13:32:26 NPK', 'White Potash', 'SSP', 'DAP', 'Urea', 'Urea',\n",
       "       '19:19:19 NPK', 'Urea', 'Chilated Micronutrient', 'Urea', 'MOP',\n",
       "       '10:26:26 NPK', 'MOP', '19:19:19 NPK', 'Urea',\n",
       "       'Magnesium Sulphate', '19:19:19 NPK', 'Urea', 'MOP',\n",
       "       '19:19:19 NPK', 'Urea', 'Urea', 'Urea', '10:10:10 NPK', 'Urea',\n",
       "       'MOP', '10:10:10 NPK', 'MOP', 'Urea', 'Urea', 'Urea', 'SSP',\n",
       "       'White Potash', 'MOP', '19:19:19 NPK', '13:32:26 NPK', 'Urea',\n",
       "       'SSP', 'Urea', '19:19:19 NPK', 'Urea', 'DAP', 'DAP',\n",
       "       '10:26:26 NPK', 'DAP', 'DAP', 'MOP', 'MOP', 'Urea', '50:26:26 NPK',\n",
       "       'DAP', 'MOP', 'Urea', 'Urea', '50:26:26 NPK', '19:19:19 NPK',\n",
       "       'DAP', '19:19:19 NPK', 'White Potash', 'SSP', 'DAP', 'MOP', 'Urea',\n",
       "       'Urea', 'Chilated Micronutrient', 'Urea', 'DAP', '19:19:19 NPK',\n",
       "       'Urea', 'MOP', 'DAP', 'Magnesium Sulphate', 'Urea', 'Urea', 'SSP',\n",
       "       '10:26:26 NPK', 'Magnesium Sulphate', 'Urea', '10:26:26 NPK',\n",
       "       'Urea', '19:19:19 NPK', 'Urea', '19:19:19 NPK', 'MOP', 'MOP',\n",
       "       'Urea', 'MOP', 'MOP', 'Ferrous Sulphate', 'DAP', 'SSP', 'DAP',\n",
       "       '10:26:26 NPK', '12:32:16 NPK', 'Urea', 'Urea', '20-20',\n",
       "       '19:19:19 NPK', 'MOP', 'DAP', 'Chilated Micronutrient', 'DAP',\n",
       "       'MOP', 'Magnesium Sulphate', 'Urea', 'Urea', '13:32:26 NPK',\n",
       "       'Magnesium Sulphate', 'Urea', 'Chilated Micronutrient', 'SSP',\n",
       "       '19:19:19 NPK', 'SSP', 'DAP', 'MOP', 'DAP', 'MOP', 'MOP',\n",
       "       'Magnesium Sulphate', '13:32:26 NPK', 'DAP', 'Ferrous Sulphate',\n",
       "       'Magnesium Sulphate', 'Urea', 'MOP', '19:19:19 NPK', 'Urea',\n",
       "       'Urea', '19:19:19 NPK', 'SSP', 'DAP', 'Magnesium Sulphate', 'Urea',\n",
       "       'Ferrous Sulphate', 'SSP', 'Urea', 'Magnesium Sulphate',\n",
       "       '19:19:19 NPK', 'SSP', 'DAP', 'DAP', 'White Potash',\n",
       "       '10:26:26 NPK', 'MOP', 'DAP', 'Urea', 'Urea', 'DAP', 'MOP', 'MOP',\n",
       "       '19:19:19 NPK', '50:26:26 NPK', 'Urea', 'Urea', '17-17-17',\n",
       "       '10:26:26 NPK', 'Urea', 'MOP', 'Ferrous Sulphate', 'Urea', 'DAP',\n",
       "       'DAP', '19:19:19 NPK', 'Chilated Micronutrient', '17-17-17',\n",
       "       'Urea', 'Urea', 'MOP', '50:26:26 NPK', 'Urea', 'MOP',\n",
       "       'Ammonium Sulphate', 'DAP', 'SSP', 'Urea', 'DAP', 'SSP', 'Urea',\n",
       "       '50:26:26 NPK', 'Urea', 'Magnesium Sulphate', '19:19:19 NPK',\n",
       "       '19:19:19 NPK', 'Chilated Micronutrient', 'MOP',\n",
       "       'Magnesium Sulphate', 'Urea', '19:19:19 NPK', '10:26:26 NPK',\n",
       "       '12:32:16 NPK', 'Urea', 'SSP', 'Magnesium Sulphate',\n",
       "       '19:19:19 NPK', 'Urea', 'DAP', 'Urea', '10:26:26 NPK',\n",
       "       '12:32:16 NPK', 'DAP', 'Urea', 'Urea', 'Urea', 'DAP', 'SSP',\n",
       "       'Magnesium Sulphate', 'DAP', 'MOP', '19:19:19 NPK', 'Urea',\n",
       "       '19:19:19 NPK', 'Urea', 'Chilated Micronutrient', 'Urea',\n",
       "       '50:26:26 NPK'], dtype=object)"
      ]
     },
     "execution_count": 295,
     "metadata": {},
     "output_type": "execute_result"
    }
   ],
   "source": [
    "yhat_test = model.predict(X_test)\n",
    "yhat_test"
   ]
  },
  {
   "cell_type": "code",
   "execution_count": 296,
   "metadata": {},
   "outputs": [
    {
     "name": "stdout",
     "output_type": "stream",
     "text": [
      "                        precision    recall  f1-score   support\n",
      "\n",
      "              10-26-26       1.00      1.00      1.00         1\n",
      "          10:10:10 NPK       1.00      1.00      1.00         5\n",
      "          10:26:26 NPK       0.40      0.38      0.39        16\n",
      "          12:32:16 NPK       0.00      0.00      0.00        11\n",
      "          13:32:26 NPK       0.00      0.00      0.00         7\n",
      "              14-35-14       1.00      1.00      1.00         3\n",
      "              17-17-17       1.00      1.00      1.00         2\n",
      "          19:19:19 NPK       0.53      0.60      0.56        48\n",
      "                 20-20       1.00      1.00      1.00         3\n",
      "          20:20:20 NPK       0.00      0.00      0.00         1\n",
      "                 28-28       1.00      1.00      1.00         4\n",
      "          50:26:26 NPK       0.23      0.25      0.24        12\n",
      "     Ammonium Sulphate       0.75      0.60      0.67         5\n",
      "Chilated Micronutrient       0.92      1.00      0.96        11\n",
      "                   DAP       0.30      0.29      0.29        70\n",
      "      Ferrous Sulphate       0.50      0.29      0.36         7\n",
      "         Hydrated Lime       1.00      1.00      1.00         2\n",
      "                   MOP       0.35      0.44      0.39        57\n",
      "    Magnesium Sulphate       0.28      0.33      0.30        21\n",
      "                   SSP       0.72      0.50      0.59        42\n",
      "               Sulphur       0.00      0.00      0.00         1\n",
      "                  Urea       0.36      0.34      0.35       141\n",
      "          White Potash       0.00      0.00      0.00         2\n",
      "\n",
      "              accuracy                           0.41       472\n",
      "             macro avg       0.54      0.52      0.53       472\n",
      "          weighted avg       0.42      0.41      0.41       472\n",
      "\n"
     ]
    },
    {
     "name": "stderr",
     "output_type": "stream",
     "text": [
      "/Users/myothiha/opt/anaconda3/lib/python3.9/site-packages/sklearn/metrics/_classification.py:1469: UndefinedMetricWarning: Precision and F-score are ill-defined and being set to 0.0 in labels with no predicted samples. Use `zero_division` parameter to control this behavior.\n",
      "  _warn_prf(average, modifier, msg_start, len(result))\n",
      "/Users/myothiha/opt/anaconda3/lib/python3.9/site-packages/sklearn/metrics/_classification.py:1469: UndefinedMetricWarning: Precision and F-score are ill-defined and being set to 0.0 in labels with no predicted samples. Use `zero_division` parameter to control this behavior.\n",
      "  _warn_prf(average, modifier, msg_start, len(result))\n",
      "/Users/myothiha/opt/anaconda3/lib/python3.9/site-packages/sklearn/metrics/_classification.py:1469: UndefinedMetricWarning: Precision and F-score are ill-defined and being set to 0.0 in labels with no predicted samples. Use `zero_division` parameter to control this behavior.\n",
      "  _warn_prf(average, modifier, msg_start, len(result))\n"
     ]
    }
   ],
   "source": [
    "from sklearn.metrics import classification_report\n",
    "\n",
    "print(classification_report(y_test, yhat_test))"
   ]
  }
 ],
 "metadata": {
  "kernelspec": {
   "display_name": "base",
   "language": "python",
   "name": "python3"
  },
  "language_info": {
   "codemirror_mode": {
    "name": "ipython",
    "version": 3
   },
   "file_extension": ".py",
   "mimetype": "text/x-python",
   "name": "python",
   "nbconvert_exporter": "python",
   "pygments_lexer": "ipython3",
   "version": "3.9.13"
  }
 },
 "nbformat": 4,
 "nbformat_minor": 2
}
