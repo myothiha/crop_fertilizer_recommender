{
 "cells": [
  {
   "cell_type": "code",
   "execution_count": 1,
   "metadata": {},
   "outputs": [],
   "source": [
    "import pandas as pd\n",
    "import numpy as np\n",
    "import matplotlib.pyplot as plt\n",
    "import seaborn as sns"
   ]
  },
  {
   "cell_type": "code",
   "execution_count": 2,
   "metadata": {},
   "outputs": [
    {
     "data": {
      "text/html": [
       "<div>\n",
       "<style scoped>\n",
       "    .dataframe tbody tr th:only-of-type {\n",
       "        vertical-align: middle;\n",
       "    }\n",
       "\n",
       "    .dataframe tbody tr th {\n",
       "        vertical-align: top;\n",
       "    }\n",
       "\n",
       "    .dataframe thead th {\n",
       "        text-align: right;\n",
       "    }\n",
       "</style>\n",
       "<table border=\"1\" class=\"dataframe\">\n",
       "  <thead>\n",
       "    <tr style=\"text-align: right;\">\n",
       "      <th></th>\n",
       "      <th>Unnamed: 0</th>\n",
       "      <th>District_Name</th>\n",
       "      <th>Soil_color</th>\n",
       "      <th>Nitrogen</th>\n",
       "      <th>Phosphorous</th>\n",
       "      <th>Potassium</th>\n",
       "      <th>pH</th>\n",
       "      <th>Rainfall</th>\n",
       "      <th>Temperature</th>\n",
       "      <th>Crop</th>\n",
       "      <th>Fertilizer</th>\n",
       "      <th>Link</th>\n",
       "      <th>Humidity</th>\n",
       "    </tr>\n",
       "  </thead>\n",
       "  <tbody>\n",
       "    <tr>\n",
       "      <th>0</th>\n",
       "      <td>0</td>\n",
       "      <td>Kolhapur</td>\n",
       "      <td>Black</td>\n",
       "      <td>75</td>\n",
       "      <td>50</td>\n",
       "      <td>100</td>\n",
       "      <td>6.5</td>\n",
       "      <td>1000</td>\n",
       "      <td>20</td>\n",
       "      <td>Sugarcane</td>\n",
       "      <td>Urea</td>\n",
       "      <td>https://youtu.be/2t5Am0xLTOo</td>\n",
       "      <td>71.8</td>\n",
       "    </tr>\n",
       "    <tr>\n",
       "      <th>1</th>\n",
       "      <td>1</td>\n",
       "      <td>Kolhapur</td>\n",
       "      <td>Black</td>\n",
       "      <td>80</td>\n",
       "      <td>50</td>\n",
       "      <td>100</td>\n",
       "      <td>6.5</td>\n",
       "      <td>1000</td>\n",
       "      <td>20</td>\n",
       "      <td>Sugarcane</td>\n",
       "      <td>Urea</td>\n",
       "      <td>https://youtu.be/2t5Am0xLTOo</td>\n",
       "      <td>71.8</td>\n",
       "    </tr>\n",
       "    <tr>\n",
       "      <th>2</th>\n",
       "      <td>2</td>\n",
       "      <td>Kolhapur</td>\n",
       "      <td>Black</td>\n",
       "      <td>85</td>\n",
       "      <td>50</td>\n",
       "      <td>100</td>\n",
       "      <td>6.5</td>\n",
       "      <td>1000</td>\n",
       "      <td>20</td>\n",
       "      <td>Sugarcane</td>\n",
       "      <td>Urea</td>\n",
       "      <td>https://youtu.be/2t5Am0xLTOo</td>\n",
       "      <td>71.8</td>\n",
       "    </tr>\n",
       "    <tr>\n",
       "      <th>3</th>\n",
       "      <td>3</td>\n",
       "      <td>Kolhapur</td>\n",
       "      <td>Black</td>\n",
       "      <td>90</td>\n",
       "      <td>50</td>\n",
       "      <td>100</td>\n",
       "      <td>6.5</td>\n",
       "      <td>1000</td>\n",
       "      <td>20</td>\n",
       "      <td>Sugarcane</td>\n",
       "      <td>Urea</td>\n",
       "      <td>https://youtu.be/2t5Am0xLTOo</td>\n",
       "      <td>71.8</td>\n",
       "    </tr>\n",
       "    <tr>\n",
       "      <th>4</th>\n",
       "      <td>4</td>\n",
       "      <td>Kolhapur</td>\n",
       "      <td>Black</td>\n",
       "      <td>95</td>\n",
       "      <td>50</td>\n",
       "      <td>100</td>\n",
       "      <td>6.5</td>\n",
       "      <td>1000</td>\n",
       "      <td>20</td>\n",
       "      <td>Sugarcane</td>\n",
       "      <td>Urea</td>\n",
       "      <td>https://youtu.be/2t5Am0xLTOo</td>\n",
       "      <td>71.8</td>\n",
       "    </tr>\n",
       "  </tbody>\n",
       "</table>\n",
       "</div>"
      ],
      "text/plain": [
       "   Unnamed: 0 District_Name Soil_color  Nitrogen  Phosphorous  Potassium   pH  \\\n",
       "0           0      Kolhapur      Black        75           50        100  6.5   \n",
       "1           1      Kolhapur      Black        80           50        100  6.5   \n",
       "2           2      Kolhapur      Black        85           50        100  6.5   \n",
       "3           3      Kolhapur      Black        90           50        100  6.5   \n",
       "4           4      Kolhapur      Black        95           50        100  6.5   \n",
       "\n",
       "   Rainfall  Temperature       Crop Fertilizer                          Link  \\\n",
       "0      1000           20  Sugarcane       Urea  https://youtu.be/2t5Am0xLTOo   \n",
       "1      1000           20  Sugarcane       Urea  https://youtu.be/2t5Am0xLTOo   \n",
       "2      1000           20  Sugarcane       Urea  https://youtu.be/2t5Am0xLTOo   \n",
       "3      1000           20  Sugarcane       Urea  https://youtu.be/2t5Am0xLTOo   \n",
       "4      1000           20  Sugarcane       Urea  https://youtu.be/2t5Am0xLTOo   \n",
       "\n",
       "   Humidity  \n",
       "0      71.8  \n",
       "1      71.8  \n",
       "2      71.8  \n",
       "3      71.8  \n",
       "4      71.8  "
      ]
     },
     "execution_count": 2,
     "metadata": {},
     "output_type": "execute_result"
    }
   ],
   "source": [
    "df = pd.read_csv(\"datasets/fertilizer_dataset2.csv\")\n",
    "df.head()"
   ]
  },
  {
   "cell_type": "code",
   "execution_count": 3,
   "metadata": {},
   "outputs": [
    {
     "data": {
      "text/plain": [
       "Index(['Unnamed: 0', 'District_Name', 'Soil_color', 'Nitrogen', 'Phosphorous',\n",
       "       'Potassium', 'pH', 'Rainfall', 'Temperature', 'Crop', 'Fertilizer',\n",
       "       'Link', 'Humidity'],\n",
       "      dtype='object')"
      ]
     },
     "execution_count": 3,
     "metadata": {},
     "output_type": "execute_result"
    }
   ],
   "source": [
    "df.columns"
   ]
  },
  {
   "cell_type": "code",
   "execution_count": 4,
   "metadata": {},
   "outputs": [
    {
     "data": {
      "text/plain": [
       "Unnamed: 0       0\n",
       "District_Name    0\n",
       "Soil_color       0\n",
       "Nitrogen         0\n",
       "Phosphorous      0\n",
       "Potassium        0\n",
       "pH               0\n",
       "Rainfall         0\n",
       "Temperature      0\n",
       "Crop             0\n",
       "Fertilizer       0\n",
       "Link             0\n",
       "Humidity         0\n",
       "dtype: int64"
      ]
     },
     "execution_count": 4,
     "metadata": {},
     "output_type": "execute_result"
    }
   ],
   "source": [
    "df.isna().sum()"
   ]
  },
  {
   "cell_type": "code",
   "execution_count": 5,
   "metadata": {},
   "outputs": [
    {
     "name": "stdout",
     "output_type": "stream",
     "text": [
      "<class 'pandas.core.frame.DataFrame'>\n",
      "RangeIndex: 4513 entries, 0 to 4512\n",
      "Data columns (total 13 columns):\n",
      " #   Column         Non-Null Count  Dtype  \n",
      "---  ------         --------------  -----  \n",
      " 0   Unnamed: 0     4513 non-null   int64  \n",
      " 1   District_Name  4513 non-null   object \n",
      " 2   Soil_color     4513 non-null   object \n",
      " 3   Nitrogen       4513 non-null   int64  \n",
      " 4   Phosphorous    4513 non-null   int64  \n",
      " 5   Potassium      4513 non-null   int64  \n",
      " 6   pH             4513 non-null   float64\n",
      " 7   Rainfall       4513 non-null   int64  \n",
      " 8   Temperature    4513 non-null   int64  \n",
      " 9   Crop           4513 non-null   object \n",
      " 10  Fertilizer     4513 non-null   object \n",
      " 11  Link           4513 non-null   object \n",
      " 12  Humidity       4513 non-null   float64\n",
      "dtypes: float64(2), int64(6), object(5)\n",
      "memory usage: 458.5+ KB\n"
     ]
    }
   ],
   "source": [
    "df.info()"
   ]
  },
  {
   "cell_type": "code",
   "execution_count": 6,
   "metadata": {},
   "outputs": [
    {
     "data": {
      "image/png": "[encoded data removed]",
      "text/plain": [
       "<Figure size 640x480 with 1 Axes>"
      ]
     },
     "metadata": {},
     "output_type": "display_data"
    }
   ],
   "source": [
    "fert_count = sns.countplot(data=df, x='Fertilizer')\n",
    "plt.xticks(rotation=90)\n",
    "None"
   ]
  },
  {
   "cell_type": "code",
   "execution_count": 7,
   "metadata": {},
   "outputs": [
    {
     "data": {
      "text/plain": [
       "array(['Urea', 'DAP', 'MOP', '10:26:26 NPK', 'SSP', 'Magnesium Sulphate',\n",
       "       '13:32:26 NPK', '12:32:16 NPK', '50:26:26 NPK', '19:19:19 NPK',\n",
       "       'Chilated Micronutrient', '18:46:00 NPK', 'Sulphur',\n",
       "       '20:20:20 NPK', 'Ammonium Sulphate', 'Ferrous Sulphate',\n",
       "       'White Potash', '10:10:10 NPK', 'Hydrated Lime'], dtype=object)"
      ]
     },
     "execution_count": 7,
     "metadata": {},
     "output_type": "execute_result"
    }
   ],
   "source": [
    "df['Fertilizer'].unique()"
   ]
  },
  {
   "cell_type": "code",
   "execution_count": 8,
   "metadata": {},
   "outputs": [],
   "source": [
    "# i1 = df[df['Fertilizer'] == '18:46:00 NPK'].index\n",
    "# df.drop(index=i1, inplace=True)\n",
    "\n",
    "# i2 = df[df['Fertilizer'] == 'Sulphur'].index\n",
    "# df.drop(index=i2, inplace=True)\n",
    "\n",
    "# i3 = df[df['Fertilizer'] == '20:20:20 NPK'].index\n",
    "# df.drop(index=i3, inplace=True)\n",
    "\n",
    "# i4 = df[df['Fertilizer'] == '10:10:10 NPK'].index\n",
    "# df.drop(index=i4, inplace=True)\n",
    "\n",
    "# i5 = df[df['Fertilizer'] == 'White Potash'].index\n",
    "# df.drop(index=i5, inplace=True)\n",
    "\n",
    "# i6 = df[df['Fertilizer'] == 'Hydrated Lime'].index\n",
    "# df.drop(index=i6, inplace=True)"
   ]
  },
  {
   "cell_type": "code",
   "execution_count": 9,
   "metadata": {},
   "outputs": [
    {
     "name": "stdout",
     "output_type": "stream",
     "text": [
      "6\n",
      "6\n",
      "15\n",
      "50\n",
      "19\n",
      "25\n"
     ]
    }
   ],
   "source": [
    "print((df['Fertilizer'] == '18:46:00 NPK').sum())\n",
    "print((df['Fertilizer'] == 'Sulphur').sum())\n",
    "print((df['Fertilizer'] == '20:20:20 NPK').sum())\n",
    "print((df['Fertilizer'] == '10:10:10 NPK').sum())\n",
    "print((df['Fertilizer'] == 'White Potash').sum())\n",
    "print((df['Fertilizer'] == 'Hydrated Lime').sum())"
   ]
  },
  {
   "cell_type": "code",
   "execution_count": 10,
   "metadata": {},
   "outputs": [],
   "source": [
    "from sklearn.preprocessing import LabelEncoder\n",
    "le = LabelEncoder()\n",
    "# df1['Soil_color'] = le.fit_transform(df1['Soil_color'])\n",
    "df['Crop'] = le.fit_transform(df['Crop'])"
   ]
  },
  {
   "cell_type": "code",
   "execution_count": 11,
   "metadata": {},
   "outputs": [],
   "source": [
    "features = ['Nitrogen', 'Phosphorous', 'Temperature', 'Humidity']\n",
    "X = df[features]\n",
    "y = df[['Fertilizer']]"
   ]
  },
  {
   "cell_type": "code",
   "execution_count": 25,
   "metadata": {},
   "outputs": [
    {
     "name": "stderr",
     "output_type": "stream",
     "text": [
      "/Users/myothiha/opt/anaconda3/lib/python3.9/site-packages/sklearn/preprocessing/_label.py:114: DataConversionWarning: A column-vector y was passed when a 1d array was expected. Please change the shape of y to (n_samples, ), for example using ravel().\n",
      "  y = column_or_1d(y, warn=True)\n"
     ]
    }
   ],
   "source": [
    "y = le.fit_transform(y)"
   ]
  },
  {
   "cell_type": "code",
   "execution_count": 26,
   "metadata": {},
   "outputs": [],
   "source": [
    "from sklearn.model_selection import train_test_split\n",
    "\n",
    "X_train, X_test, y_train, y_test = train_test_split(X, y, test_size=0.2, random_state=42, stratify=y)"
   ]
  },
  {
   "cell_type": "code",
   "execution_count": 27,
   "metadata": {},
   "outputs": [],
   "source": [
    "y_train = np.ravel(y_train)\n",
    "y_test = np.ravel(y_test)"
   ]
  },
  {
   "cell_type": "code",
   "execution_count": 28,
   "metadata": {},
   "outputs": [
    {
     "name": "stdout",
     "output_type": "stream",
     "text": [
      "X_train (3610, 4)\n",
      "y_train (3610,)\n",
      "X_test (903, 4)\n",
      "y_test (903,)\n"
     ]
    }
   ],
   "source": [
    "print('X_train', X_train.shape)\n",
    "print('y_train', y_train.shape)\n",
    "print('X_test', X_test.shape)\n",
    "print('y_test', y_test.shape)"
   ]
  },
  {
   "cell_type": "code",
   "execution_count": 29,
   "metadata": {},
   "outputs": [],
   "source": [
    "from sklearn.preprocessing import StandardScaler\n",
    "\n",
    "# Scale the data\n",
    "scaler = StandardScaler()\n",
    "X_train = scaler.fit_transform(X_train)\n",
    "X_test = scaler.transform(X_test)"
   ]
  },
  {
   "cell_type": "code",
   "execution_count": 30,
   "metadata": {},
   "outputs": [
    {
     "name": "stdout",
     "output_type": "stream",
     "text": [
      "Random Forest: Accuracy 0.37562326869806095 (+/- 0.006341010051113344)\n",
      "Support Vector Machine: Accuracy 0.3847645429362881 (+/- 0.00577082178836555)\n",
      "Logistic Regression: Accuracy 0.32825484764542934 (+/- 0.0067852901462138)\n",
      "K-Nearest Neighbors: Accuracy 0.4096952908587258 (+/- 0.006156817388058952)\n",
      "The best classifier is K-Nearest Neighbors.\n"
     ]
    }
   ],
   "source": [
    "import numpy as np\n",
    "from sklearn.model_selection import cross_val_score, train_test_split\n",
    "from sklearn.ensemble import RandomForestClassifier\n",
    "from sklearn.svm import SVC\n",
    "from sklearn.linear_model import LogisticRegression\n",
    "from sklearn.neighbors import KNeighborsClassifier\n",
    "import xgboost as xgb\n",
    "\n",
    "classifiers = {\n",
    "    'Random Forest': RandomForestClassifier(),\n",
    "    'Support Vector Machine': SVC(),\n",
    "    'Logistic Regression': LogisticRegression(max_iter=1000),\n",
    "    'K-Nearest Neighbors': KNeighborsClassifier(),\n",
    "    # 'XGBoost': xgb.XGBClassifier(),\n",
    "    # Add other classifiers as needed\n",
    "}\n",
    "\n",
    "for clf_name, clf in classifiers.items():\n",
    "    scores = cross_val_score(clf, X_train, y_train, cv=5)  # Adjust cv value as needed\n",
    "    print(f\"{clf_name}: Accuracy {np.mean(scores)} (+/- {np.std(scores)})\")\n",
    "\n",
    "\n",
    "best_classifier_name = max(classifiers, key=lambda k: np.mean(cross_val_score(classifiers[k], X_train, y_train, cv=5)))\n",
    "model = classifiers[best_classifier_name]\n",
    "print(f\"The best classifier is {best_classifier_name}.\")"
   ]
  },
  {
   "cell_type": "code",
   "execution_count": 31,
   "metadata": {},
   "outputs": [],
   "source": [
    "# import numpy as np\n",
    "# from sklearn.model_selection import GridSearchCV\n",
    "# from sklearn.metrics import accuracy_score\n",
    "# import xgboost as xgb\n",
    "\n",
    "# # Define the parameter grid for XGBoost\n",
    "# param_grid = {\n",
    "#     'max_depth': [3, 5, 7],\n",
    "#     'learning_rate': [0.001, 0.01, 0.1],\n",
    "#     'n_estimators': [50, 100, 200],\n",
    "#     'subsample': [0.8, 1.0],\n",
    "#     'colsample_bytree': [0.8, 1.0],\n",
    "# }\n",
    "\n",
    "# # Create an XGBoost classifier\n",
    "# xgb_classifier = xgb.XGBClassifier(objective='binary:logistic')\n",
    "\n",
    "# # Perform grid search with cross-validation\n",
    "# grid_search = GridSearchCV(xgb_classifier, param_grid, cv=5, scoring='accuracy', verbose=1)\n",
    "# grid_search.fit(X_train, y_train)\n",
    "\n",
    "# # Print the best parameters and corresponding accuracy\n",
    "# print(\"Best Parameters: \", grid_search.best_params_)\n",
    "# print(\"Best Cross-validated Accuracy: {:.4f}\".format(grid_search.best_score_))\n",
    "\n",
    "# # Get the best model from grid search\n",
    "# best_xgb_model = grid_search.best_estimator_\n",
    "\n",
    "# # Evaluate the best model on the test set\n",
    "# y_pred = best_xgb_model.predict(X_test)\n",
    "# test_accuracy = accuracy_score(y_test, y_pred)\n",
    "# print(\"Test accuracy of the best XGBoost model: {:.4f}\".format(test_accuracy))\n"
   ]
  },
  {
   "cell_type": "code",
   "execution_count": 32,
   "metadata": {},
   "outputs": [
    {
     "name": "stdout",
     "output_type": "stream",
     "text": [
      "Fitting 5 folds for each of 16 candidates, totalling 80 fits\n",
      "Best Parameters:  {'n_neighbors': 9, 'p': 1, 'weights': 'uniform'}\n",
      "Best Cross-validated Accuracy: 0.4368\n",
      "Test accuracy of the best KNN model: 0.4042\n"
     ]
    }
   ],
   "source": [
    "import numpy as np\n",
    "from sklearn.model_selection import GridSearchCV, train_test_split\n",
    "from sklearn.neighbors import KNeighborsClassifier\n",
    "from sklearn.metrics import accuracy_score\n",
    "\n",
    "# Assuming 'X' is your feature matrix and 'y' is the target variable\n",
    "# X_train, X_test, y_train, y_test = train_test_split(X, y, test_size=0.2, random_state=42)\n",
    "\n",
    "# Convert y to a 1-dimensional array\n",
    "y_train_flat = np.ravel(y_train)\n",
    "y_test_flat = np.ravel(y_test)\n",
    "\n",
    "# Define the parameter grid for KNN\n",
    "param_grid = {\n",
    "    'n_neighbors': [3, 5, 7, 9],\n",
    "    'weights': ['uniform', 'distance'],\n",
    "    'p': [1, 2]  # 1 for Manhattan distance (L1), 2 for Euclidean distance (L2)\n",
    "}\n",
    "\n",
    "# Create a KNN classifier\n",
    "knn_classifier = KNeighborsClassifier()\n",
    "\n",
    "# Perform grid search with cross-validation\n",
    "grid_search = GridSearchCV(knn_classifier, param_grid, cv=5, scoring='accuracy', verbose=1, return_train_score=True)\n",
    "grid_search.fit(X_train, y_train_flat)\n",
    "\n",
    "# Print the best parameters and corresponding accuracy\n",
    "print(\"Best Parameters: \", grid_search.best_params_)\n",
    "print(\"Best Cross-validated Accuracy: {:.4f}\".format(grid_search.best_score_))\n",
    "\n",
    "# Get the best model from grid search\n",
    "best_knn_model = grid_search.best_estimator_\n",
    "\n",
    "# Evaluate the best model on the test set\n",
    "y_pred = best_knn_model.predict(X_test)\n",
    "test_accuracy = accuracy_score(y_test_flat, y_pred)\n",
    "print(\"Test accuracy of the best KNN model: {:.4f}\".format(test_accuracy))\n",
    "\n",
    "model = best_knn_model"
   ]
  },
  {
   "cell_type": "code",
   "execution_count": 33,
   "metadata": {},
   "outputs": [
    {
     "data": {
      "text/plain": [
       "0.6058171745152354"
      ]
     },
     "execution_count": 33,
     "metadata": {},
     "output_type": "execute_result"
    }
   ],
   "source": [
    "# model = best_xgb_model\n",
    "model.fit(X_train, y_train)\n",
    "model.score(X_train, y_train)"
   ]
  },
  {
   "cell_type": "code",
   "execution_count": 34,
   "metadata": {},
   "outputs": [
    {
     "data": {
      "text/plain": [
       "array([10,  0,  0,  1, 17,  2, 17, 17, 10, 13, 10,  5, 17,  5, 17, 13, 17,\n",
       "       14, 15, 15,  7, 17, 13, 14, 10, 17,  2, 17, 14, 10,  5,  1,  5, 17,\n",
       "       17, 17,  3, 17, 17,  5, 17, 10,  5, 17, 10, 17,  9, 17, 10, 13,  0,\n",
       "       13, 10,  5,  5, 17, 15, 15,  5, 17, 17, 10, 13,  5, 13, 13, 17, 10,\n",
       "       17, 13, 17, 17, 15, 17,  5, 15,  3,  9, 14, 17, 17, 10, 10, 17, 17,\n",
       "       17, 10,  1,  5,  5, 15, 10, 17, 13, 15, 17,  1,  7, 13,  9, 17, 15,\n",
       "        0,  8,  9, 10, 17, 17, 17, 17,  5, 10, 10, 17, 15, 15, 10, 13, 17,\n",
       "       17, 13, 10, 15, 10, 17,  2, 17,  1, 17,  5, 17,  5,  7, 14,  5, 13,\n",
       "       11, 17,  0, 10,  2, 10,  5, 14, 10, 15, 13, 10, 11, 10, 17,  5,  5,\n",
       "        5, 15, 17, 17, 10, 17,  9, 13, 13, 10, 15,  8, 10, 13,  9,  5,  2,\n",
       "       11, 10, 10, 17,  0, 17, 13,  9, 10, 13, 13, 13, 15,  0, 17, 15,  5,\n",
       "        2, 13, 13, 17,  1, 10, 15, 10,  9, 14, 17,  5, 10, 10, 17, 17, 15,\n",
       "        5, 17, 10,  2, 13,  1, 17,  3, 14,  5, 17, 17, 13, 10, 17, 13, 10,\n",
       "        2, 17,  8,  5, 10, 13, 17, 10, 10, 10,  7,  0,  5, 17, 17,  5, 17,\n",
       "        1, 13,  0,  5, 13, 15, 17,  3, 17, 13, 11,  5,  5, 10,  2,  5, 17,\n",
       "        7, 10, 10, 17,  9, 17, 17, 10, 17,  9, 17, 10, 14, 17, 11,  5, 11,\n",
       "       17, 10, 10, 10,  9,  5,  5, 13, 14, 17, 17, 17,  1, 17, 17, 17, 10,\n",
       "       13, 10,  1, 17, 15, 17,  7, 13, 17, 10, 10, 17, 14,  9, 17, 15, 15,\n",
       "       17,  5, 17, 10, 10, 17, 17, 17,  2, 10, 15, 17, 15,  5,  5, 13, 17,\n",
       "       17, 17, 10, 13, 10, 13, 17, 17, 15, 11,  5, 10, 14,  2, 17, 17,  5,\n",
       "       15, 17, 13, 17, 15,  2, 17, 17, 10, 10, 15,  8, 15,  5, 17, 17,  5,\n",
       "       10, 13, 14, 15, 10, 10, 15, 14,  5,  7,  5, 12, 10, 10, 15, 17, 13,\n",
       "        3,  8, 10,  0, 10,  5, 14, 14, 14, 10, 13, 15,  5,  5, 14, 17,  5,\n",
       "       15, 17,  9, 17, 17,  9, 11, 13, 15, 15, 14, 15, 15, 17, 15, 10, 15,\n",
       "       10, 14, 17, 11,  7, 13, 17, 13, 17, 15, 17, 13,  5, 10, 17, 15,  0,\n",
       "        5, 17, 17, 17, 15, 17, 15, 10, 17, 15,  2,  1,  9, 14, 13,  5, 17,\n",
       "       10, 13, 17, 17, 13, 17, 10, 10, 15,  1, 13, 13,  5, 15,  5, 17,  1,\n",
       "       10, 14, 10, 10,  5, 13,  5, 17, 14, 10, 17, 17, 15, 17,  5,  0, 10,\n",
       "       10,  2, 17, 10, 17, 15, 10, 17,  5, 17, 16,  9, 10, 17, 10, 10,  9,\n",
       "       17,  3, 13, 10,  1, 17, 17, 13, 17, 17, 15, 13, 17,  5, 13, 13,  9,\n",
       "        9,  2,  7, 15,  0, 10, 10, 14, 16, 15, 17, 10,  9,  1, 15, 10, 15,\n",
       "       10,  0, 17,  9, 13,  9, 13, 15,  2, 17, 17, 14, 17,  5, 14,  7, 17,\n",
       "       17, 17, 17, 15, 13, 17, 10, 17, 10,  5, 17, 17,  7,  5, 15, 15, 15,\n",
       "        5, 13, 17,  3,  5,  2, 13,  0, 17,  8,  9, 13, 14, 14,  0, 13,  9,\n",
       "       17, 17, 17, 17, 13, 17, 10, 15,  5, 11,  5, 10, 17, 14, 13, 13, 15,\n",
       "        8, 10, 10, 13, 11, 15, 15, 10, 17, 13,  1, 18,  5, 17, 17,  0, 15,\n",
       "        2, 10,  5,  3,  5,  0, 10, 15, 17, 11,  5, 17, 17,  9,  1, 13, 17,\n",
       "       13, 17, 15,  0, 17,  2,  6, 14,  5,  5, 10,  3, 15, 16,  2,  5, 17,\n",
       "       15, 13, 14, 13,  5, 17, 17, 13, 10, 15, 17, 15,  5,  2, 10, 17, 13,\n",
       "       10, 14, 17, 14,  9, 13, 11,  9, 15, 14, 17, 17,  3, 15, 17, 17, 17,\n",
       "       13, 17,  2,  5, 17, 10, 17,  1, 15, 13, 17, 14,  3, 17,  7, 17, 10,\n",
       "        5, 11, 13,  9, 17, 17,  5, 15, 18,  5, 17, 17,  9, 13, 13, 17, 13,\n",
       "       13, 13,  5,  1, 17, 10,  9,  2,  5,  2, 14, 15,  3, 17,  2,  5, 10,\n",
       "        9,  5, 13, 17, 17,  5, 17,  0, 15, 10, 17, 14, 17, 17,  7, 17, 17,\n",
       "        9, 17,  5, 14, 17, 17, 11, 17, 17, 17,  0, 15,  5,  5, 17,  1,  1,\n",
       "       17, 15,  1, 10, 17, 10,  5, 15, 15, 13,  8,  5, 14, 10,  2, 15, 14,\n",
       "       11, 15,  1,  5, 17, 17, 13,  1,  1, 17,  0, 17, 17, 13,  9, 17, 11,\n",
       "       10, 13,  3, 13, 10, 17, 13, 17, 10, 17, 17, 10, 17,  4, 10, 10, 10,\n",
       "       15,  6, 17,  5, 15, 17, 13, 10, 17, 10, 17, 17, 17, 17, 11, 15,  1,\n",
       "        9, 15, 17, 14, 17, 17, 14,  5, 15, 13, 17, 14,  9, 17,  7, 17,  5,\n",
       "        5, 14, 17,  5, 10,  7, 15, 17, 10, 17,  2, 17, 17, 17,  6, 10, 10,\n",
       "       13, 13, 13, 10, 17, 10,  3,  5,  5, 10,  1, 17,  5,  2, 15, 13, 10,\n",
       "       17, 15, 17, 17,  8, 17, 14, 17,  5, 17, 15, 16, 13, 15, 15, 17,  9,\n",
       "        5,  7])"
      ]
     },
     "execution_count": 34,
     "metadata": {},
     "output_type": "execute_result"
    }
   ],
   "source": [
    "yhat_test = model.predict(X_test)\n",
    "yhat_test"
   ]
  },
  {
   "cell_type": "code",
   "execution_count": 35,
   "metadata": {},
   "outputs": [
    {
     "name": "stdout",
     "output_type": "stream",
     "text": [
      "              precision    recall  f1-score   support\n",
      "\n",
      "           0       0.69      0.93      0.79        40\n",
      "           1       0.54      0.62      0.58       125\n",
      "           2       0.38      0.47      0.42        85\n",
      "           3       0.53      0.55      0.54        53\n",
      "           4       0.43      0.60      0.50         5\n",
      "           5       0.67      0.74      0.70       384\n",
      "           6       0.44      0.33      0.38        12\n",
      "           7       0.60      0.51      0.55        99\n",
      "           8       0.62      0.53      0.57        40\n",
      "           9       0.60      0.84      0.70        86\n",
      "          10       0.56      0.59      0.57       533\n",
      "          11       0.69      0.78      0.73        54\n",
      "          12       1.00      0.15      0.26        20\n",
      "          13       0.63      0.58      0.60       457\n",
      "          14       0.61      0.56      0.58       172\n",
      "          15       0.59      0.61      0.60       334\n",
      "          16       0.50      0.60      0.55         5\n",
      "          17       0.63      0.59      0.61      1091\n",
      "          18       0.50      0.27      0.35        15\n",
      "\n",
      "    accuracy                           0.61      3610\n",
      "   macro avg       0.59      0.57      0.56      3610\n",
      "weighted avg       0.61      0.61      0.60      3610\n",
      "\n"
     ]
    }
   ],
   "source": [
    "from sklearn.metrics import classification_report\n",
    "\n",
    "yhat_train = model.predict(X_train)\n",
    "print(classification_report(y_train, yhat_train))"
   ]
  },
  {
   "cell_type": "code",
   "execution_count": 41,
   "metadata": {},
   "outputs": [],
   "source": [
    "top3_yhat_test = model.predict_proba(X_test)"
   ]
  },
  {
   "cell_type": "code",
   "execution_count": 55,
   "metadata": {},
   "outputs": [
    {
     "data": {
      "text/plain": [
       "0.9601328903654485"
      ]
     },
     "execution_count": 55,
     "metadata": {},
     "output_type": "execute_result"
    }
   ],
   "source": [
    "from sklearn.metrics import top_k_accuracy_score\n",
    "top_k_accuracy_score(y_test, top3_yhat_test, k=4)"
   ]
  },
  {
   "cell_type": "code",
   "execution_count": 37,
   "metadata": {},
   "outputs": [
    {
     "name": "stdout",
     "output_type": "stream",
     "text": [
      "              precision    recall  f1-score   support\n",
      "\n",
      "           0       0.41      0.90      0.56        10\n",
      "           1       0.33      0.29      0.31        31\n",
      "           2       0.18      0.24      0.20        21\n",
      "           3       0.07      0.08      0.07        13\n",
      "           4       0.00      0.00      0.00         1\n",
      "           5       0.47      0.49      0.48        96\n",
      "           6       0.00      0.00      0.00         3\n",
      "           7       0.06      0.04      0.05        25\n",
      "           8       0.78      0.70      0.74        10\n",
      "           9       0.42      0.68      0.52        22\n",
      "          10       0.38      0.38      0.38       134\n",
      "          11       0.50      0.64      0.56        14\n",
      "          12       1.00      0.20      0.33         5\n",
      "          13       0.49      0.42      0.45       114\n",
      "          14       0.33      0.35      0.34        43\n",
      "          15       0.39      0.45      0.42        83\n",
      "          16       0.00      0.00      0.00         1\n",
      "          17       0.43      0.40      0.42       273\n",
      "          18       0.00      0.00      0.00         4\n",
      "\n",
      "    accuracy                           0.40       903\n",
      "   macro avg       0.33      0.33      0.31       903\n",
      "weighted avg       0.41      0.40      0.40       903\n",
      "\n"
     ]
    }
   ],
   "source": [
    "print(classification_report(y_test, yhat_test))"
   ]
  }
 ],
 "metadata": {
  "kernelspec": {
   "display_name": "base",
   "language": "python",
   "name": "python3"
  },
  "language_info": {
   "codemirror_mode": {
    "name": "ipython",
    "version": 3
   },
   "file_extension": ".py",
   "mimetype": "text/x-python",
   "name": "python",
   "nbconvert_exporter": "python",
   "pygments_lexer": "ipython3",
   "version": "3.9.13"
  }
 },
 "nbformat": 4,
 "nbformat_minor": 2
}
