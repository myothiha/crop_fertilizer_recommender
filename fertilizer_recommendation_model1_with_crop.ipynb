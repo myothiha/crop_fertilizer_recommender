{
 "cells": [
  {
   "cell_type": "code",
   "execution_count": 1,
   "metadata": {},
   "outputs": [],
   "source": [
    "import pandas as pd\n",
    "import numpy as np\n",
    "import matplotlib.pyplot as plt\n",
    "import seaborn as sns"
   ]
  },
  {
   "cell_type": "code",
   "execution_count": 2,
   "metadata": {},
   "outputs": [
    {
     "data": {
      "text/html": [
       "<div>\n",
       "<style scoped>\n",
       "    .dataframe tbody tr th:only-of-type {\n",
       "        vertical-align: middle;\n",
       "    }\n",
       "\n",
       "    .dataframe tbody tr th {\n",
       "        vertical-align: top;\n",
       "    }\n",
       "\n",
       "    .dataframe thead th {\n",
       "        text-align: right;\n",
       "    }\n",
       "</style>\n",
       "<table border=\"1\" class=\"dataframe\">\n",
       "  <thead>\n",
       "    <tr style=\"text-align: right;\">\n",
       "      <th></th>\n",
       "      <th>Unnamed: 0</th>\n",
       "      <th>District_Name</th>\n",
       "      <th>Soil_color</th>\n",
       "      <th>Nitrogen</th>\n",
       "      <th>Phosphorous</th>\n",
       "      <th>Potassium</th>\n",
       "      <th>pH</th>\n",
       "      <th>Rainfall</th>\n",
       "      <th>Temperature</th>\n",
       "      <th>Crop</th>\n",
       "      <th>Fertilizer</th>\n",
       "      <th>Link</th>\n",
       "      <th>Humidity</th>\n",
       "      <th>Moisture</th>\n",
       "      <th>Soil Type</th>\n",
       "    </tr>\n",
       "  </thead>\n",
       "  <tbody>\n",
       "    <tr>\n",
       "      <th>0</th>\n",
       "      <td>0</td>\n",
       "      <td>Kolhapur</td>\n",
       "      <td>Black</td>\n",
       "      <td>75</td>\n",
       "      <td>50</td>\n",
       "      <td>100</td>\n",
       "      <td>6.5</td>\n",
       "      <td>1000.0</td>\n",
       "      <td>20</td>\n",
       "      <td>Sugarcane</td>\n",
       "      <td>Urea</td>\n",
       "      <td>https://youtu.be/2t5Am0xLTOo</td>\n",
       "      <td>71.8</td>\n",
       "      <td>NaN</td>\n",
       "      <td>NaN</td>\n",
       "    </tr>\n",
       "    <tr>\n",
       "      <th>1</th>\n",
       "      <td>1</td>\n",
       "      <td>Kolhapur</td>\n",
       "      <td>Black</td>\n",
       "      <td>80</td>\n",
       "      <td>50</td>\n",
       "      <td>100</td>\n",
       "      <td>6.5</td>\n",
       "      <td>1000.0</td>\n",
       "      <td>20</td>\n",
       "      <td>Sugarcane</td>\n",
       "      <td>Urea</td>\n",
       "      <td>https://youtu.be/2t5Am0xLTOo</td>\n",
       "      <td>71.8</td>\n",
       "      <td>NaN</td>\n",
       "      <td>NaN</td>\n",
       "    </tr>\n",
       "    <tr>\n",
       "      <th>2</th>\n",
       "      <td>2</td>\n",
       "      <td>Kolhapur</td>\n",
       "      <td>Black</td>\n",
       "      <td>85</td>\n",
       "      <td>50</td>\n",
       "      <td>100</td>\n",
       "      <td>6.5</td>\n",
       "      <td>1000.0</td>\n",
       "      <td>20</td>\n",
       "      <td>Sugarcane</td>\n",
       "      <td>Urea</td>\n",
       "      <td>https://youtu.be/2t5Am0xLTOo</td>\n",
       "      <td>71.8</td>\n",
       "      <td>NaN</td>\n",
       "      <td>NaN</td>\n",
       "    </tr>\n",
       "    <tr>\n",
       "      <th>3</th>\n",
       "      <td>3</td>\n",
       "      <td>Kolhapur</td>\n",
       "      <td>Black</td>\n",
       "      <td>90</td>\n",
       "      <td>50</td>\n",
       "      <td>100</td>\n",
       "      <td>6.5</td>\n",
       "      <td>1000.0</td>\n",
       "      <td>20</td>\n",
       "      <td>Sugarcane</td>\n",
       "      <td>Urea</td>\n",
       "      <td>https://youtu.be/2t5Am0xLTOo</td>\n",
       "      <td>71.8</td>\n",
       "      <td>NaN</td>\n",
       "      <td>NaN</td>\n",
       "    </tr>\n",
       "    <tr>\n",
       "      <th>4</th>\n",
       "      <td>4</td>\n",
       "      <td>Kolhapur</td>\n",
       "      <td>Black</td>\n",
       "      <td>95</td>\n",
       "      <td>50</td>\n",
       "      <td>100</td>\n",
       "      <td>6.5</td>\n",
       "      <td>1000.0</td>\n",
       "      <td>20</td>\n",
       "      <td>Sugarcane</td>\n",
       "      <td>Urea</td>\n",
       "      <td>https://youtu.be/2t5Am0xLTOo</td>\n",
       "      <td>71.8</td>\n",
       "      <td>NaN</td>\n",
       "      <td>NaN</td>\n",
       "    </tr>\n",
       "  </tbody>\n",
       "</table>\n",
       "</div>"
      ],
      "text/plain": [
       "   Unnamed: 0 District_Name Soil_color  Nitrogen  Phosphorous  Potassium   pH  \\\n",
       "0           0      Kolhapur      Black        75           50        100  6.5   \n",
       "1           1      Kolhapur      Black        80           50        100  6.5   \n",
       "2           2      Kolhapur      Black        85           50        100  6.5   \n",
       "3           3      Kolhapur      Black        90           50        100  6.5   \n",
       "4           4      Kolhapur      Black        95           50        100  6.5   \n",
       "\n",
       "   Rainfall  Temperature       Crop Fertilizer                          Link  \\\n",
       "0    1000.0           20  Sugarcane       Urea  https://youtu.be/2t5Am0xLTOo   \n",
       "1    1000.0           20  Sugarcane       Urea  https://youtu.be/2t5Am0xLTOo   \n",
       "2    1000.0           20  Sugarcane       Urea  https://youtu.be/2t5Am0xLTOo   \n",
       "3    1000.0           20  Sugarcane       Urea  https://youtu.be/2t5Am0xLTOo   \n",
       "4    1000.0           20  Sugarcane       Urea  https://youtu.be/2t5Am0xLTOo   \n",
       "\n",
       "   Humidity  Moisture Soil Type  \n",
       "0      71.8       NaN       NaN  \n",
       "1      71.8       NaN       NaN  \n",
       "2      71.8       NaN       NaN  \n",
       "3      71.8       NaN       NaN  \n",
       "4      71.8       NaN       NaN  "
      ]
     },
     "execution_count": 2,
     "metadata": {},
     "output_type": "execute_result"
    }
   ],
   "source": [
    "df = pd.read_csv(\"datasets/merge_fertilized.csv\")\n",
    "df.head()"
   ]
  },
  {
   "cell_type": "code",
   "execution_count": 3,
   "metadata": {},
   "outputs": [
    {
     "data": {
      "text/plain": [
       "Index(['Unnamed: 0', 'District_Name', 'Soil_color', 'Nitrogen', 'Phosphorous',\n",
       "       'Potassium', 'pH', 'Rainfall', 'Temperature', 'Crop', 'Fertilizer',\n",
       "       'Link', 'Humidity', 'Moisture', 'Soil Type'],\n",
       "      dtype='object')"
      ]
     },
     "execution_count": 3,
     "metadata": {},
     "output_type": "execute_result"
    }
   ],
   "source": [
    "df.columns"
   ]
  },
  {
   "cell_type": "code",
   "execution_count": 4,
   "metadata": {},
   "outputs": [
    {
     "data": {
      "text/plain": [
       "Unnamed: 0          0\n",
       "District_Name     205\n",
       "Soil_color        205\n",
       "Nitrogen            0\n",
       "Phosphorous         0\n",
       "Potassium           0\n",
       "pH                205\n",
       "Rainfall          205\n",
       "Temperature         0\n",
       "Crop                0\n",
       "Fertilizer          0\n",
       "Link              205\n",
       "Humidity            0\n",
       "Moisture         4513\n",
       "Soil Type        4513\n",
       "dtype: int64"
      ]
     },
     "execution_count": 4,
     "metadata": {},
     "output_type": "execute_result"
    }
   ],
   "source": [
    "df.isna().sum()"
   ]
  },
  {
   "cell_type": "code",
   "execution_count": 5,
   "metadata": {},
   "outputs": [
    {
     "name": "stdout",
     "output_type": "stream",
     "text": [
      "<class 'pandas.core.frame.DataFrame'>\n",
      "RangeIndex: 4718 entries, 0 to 4717\n",
      "Data columns (total 15 columns):\n",
      " #   Column         Non-Null Count  Dtype  \n",
      "---  ------         --------------  -----  \n",
      " 0   Unnamed: 0     4718 non-null   int64  \n",
      " 1   District_Name  4513 non-null   object \n",
      " 2   Soil_color     4513 non-null   object \n",
      " 3   Nitrogen       4718 non-null   int64  \n",
      " 4   Phosphorous    4718 non-null   int64  \n",
      " 5   Potassium      4718 non-null   int64  \n",
      " 6   pH             4513 non-null   float64\n",
      " 7   Rainfall       4513 non-null   float64\n",
      " 8   Temperature    4718 non-null   int64  \n",
      " 9   Crop           4718 non-null   object \n",
      " 10  Fertilizer     4718 non-null   object \n",
      " 11  Link           4513 non-null   object \n",
      " 12  Humidity       4718 non-null   float64\n",
      " 13  Moisture       205 non-null    float64\n",
      " 14  Soil Type      205 non-null    object \n",
      "dtypes: float64(4), int64(5), object(6)\n",
      "memory usage: 553.0+ KB\n"
     ]
    }
   ],
   "source": [
    "df.info()"
   ]
  },
  {
   "cell_type": "code",
   "execution_count": 6,
   "metadata": {},
   "outputs": [
    {
     "data": {
      "image/png": "[encoded data removed]",
      "text/plain": [
       "<Figure size 640x480 with 1 Axes>"
      ]
     },
     "metadata": {},
     "output_type": "display_data"
    }
   ],
   "source": [
    "fert_count = sns.countplot(data=df, x='Fertilizer')\n",
    "plt.xticks(rotation=90)\n",
    "None"
   ]
  },
  {
   "cell_type": "code",
   "execution_count": 7,
   "metadata": {},
   "outputs": [
    {
     "data": {
      "text/plain": [
       "array(['Urea', 'DAP', 'MOP', '10:26:26 NPK', 'SSP', 'Magnesium Sulphate',\n",
       "       '13:32:26 NPK', '12:32:16 NPK', '50:26:26 NPK', '19:19:19 NPK',\n",
       "       'Chilated Micronutrient', '18:46:00 NPK', 'Sulphur',\n",
       "       '20:20:20 NPK', 'Ammonium Sulphate', 'Ferrous Sulphate',\n",
       "       'White Potash', '10:10:10 NPK', 'Hydrated Lime', '14-35-14',\n",
       "       '28-28', '17-17-17', '20-20'], dtype=object)"
      ]
     },
     "execution_count": 7,
     "metadata": {},
     "output_type": "execute_result"
    }
   ],
   "source": [
    "df['Fertilizer'].unique()"
   ]
  },
  {
   "cell_type": "code",
   "execution_count": 8,
   "metadata": {},
   "outputs": [],
   "source": [
    "i1 = df[df['Fertilizer'] == '18:46:00 NPK'].index\n",
    "df.drop(index=i1, inplace=True)\n",
    "\n",
    "i2 = df[df['Fertilizer'] == 'Sulphur'].index\n",
    "df.drop(index=i2, inplace=True)\n",
    "\n",
    "# i3 = df[df['Fertilizer'] == '20:20:20 NPK'].index\n",
    "# df.drop(index=i3, inplace=True)\n",
    "\n",
    "# i4 = df[df['Fertilizer'] == '10:10:10 NPK'].index\n",
    "# df.drop(index=i4, inplace=True)\n",
    "\n",
    "# i5 = df[df['Fertilizer'] == 'White Potash'].index\n",
    "# df.drop(index=i5, inplace=True)\n",
    "\n",
    "# i6 = df[df['Fertilizer'] == 'Hydrated Lime'].index\n",
    "# df.drop(index=i6, inplace=True)"
   ]
  },
  {
   "cell_type": "code",
   "execution_count": 9,
   "metadata": {},
   "outputs": [
    {
     "name": "stdout",
     "output_type": "stream",
     "text": [
      "0\n",
      "0\n",
      "15\n",
      "50\n",
      "19\n",
      "25\n"
     ]
    }
   ],
   "source": [
    "print((df['Fertilizer'] == '18:46:00 NPK').sum())\n",
    "print((df['Fertilizer'] == 'Sulphur').sum())\n",
    "print((df['Fertilizer'] == '20:20:20 NPK').sum())\n",
    "print((df['Fertilizer'] == '10:10:10 NPK').sum())\n",
    "print((df['Fertilizer'] == 'White Potash').sum())\n",
    "print((df['Fertilizer'] == 'Hydrated Lime').sum())"
   ]
  },
  {
   "cell_type": "code",
   "execution_count": 10,
   "metadata": {},
   "outputs": [],
   "source": [
    "from sklearn.preprocessing import LabelEncoder\n",
    "le = LabelEncoder()\n",
    "# df1['Soil_color'] = le.fit_transform(df1['Soil_color'])\n",
    "df['Crop'] = le.fit_transform(df['Crop'])"
   ]
  },
  {
   "cell_type": "code",
   "execution_count": 11,
   "metadata": {},
   "outputs": [],
   "source": [
    "features = ['Crop', 'Nitrogen', 'Phosphorous', 'Temperature', 'Humidity']\n",
    "X = df[features]\n",
    "y = df[['Fertilizer']]"
   ]
  },
  {
   "cell_type": "code",
   "execution_count": 12,
   "metadata": {},
   "outputs": [
    {
     "name": "stderr",
     "output_type": "stream",
     "text": [
      "/Users/myothiha/.conda/envs/DeepRefLearn/lib/python3.8/site-packages/sklearn/preprocessing/_label.py:114: DataConversionWarning: A column-vector y was passed when a 1d array was expected. Please change the shape of y to (n_samples, ), for example using ravel().\n",
      "  y = column_or_1d(y, warn=True)\n"
     ]
    }
   ],
   "source": [
    "y = le.fit_transform(y)"
   ]
  },
  {
   "cell_type": "code",
   "execution_count": 13,
   "metadata": {},
   "outputs": [],
   "source": [
    "from sklearn.model_selection import train_test_split\n",
    "\n",
    "X_train, X_test, y_train, y_test = train_test_split(X, y, test_size=0.2, random_state=42, stratify=y)"
   ]
  },
  {
   "cell_type": "code",
   "execution_count": 14,
   "metadata": {},
   "outputs": [],
   "source": [
    "# !pip3 install sklearn==1.2.1\n",
    "# !pip3 install pip==21.2.4\n",
    "# !pip3 install setuptools==58.0.4\n",
    "# !pip3 install numpy==1.22.4\n",
    "# !pip3 install scipy==1.7.1\n",
    "# !pip3 install Cython==0.29.24\n",
    "# !pip3 install pandas==1.3.4\n",
    "# !pip3 install matplotlib==3.4.3\n",
    "# !pip3 install joblib==1.2.0\n",
    "# !pip3 install threadpoolctl==3.1.0"
   ]
  },
  {
   "cell_type": "markdown",
   "metadata": {},
   "source": [
    "## Upscaling"
   ]
  },
  {
   "cell_type": "code",
   "execution_count": 15,
   "metadata": {},
   "outputs": [],
   "source": [
    "# from imblearn.over_sampling import SMOTE"
   ]
  },
  {
   "cell_type": "code",
   "execution_count": 16,
   "metadata": {},
   "outputs": [],
   "source": [
    "# # Before SMOTE\n",
    "# print(\"Distribution of class labels before SMOTE:\")\n",
    "# print(np.bincount(y_train))"
   ]
  },
  {
   "cell_type": "code",
   "execution_count": 17,
   "metadata": {},
   "outputs": [],
   "source": [
    "# import sklearn\n",
    "# print(sklearn.show_versions())"
   ]
  },
  {
   "cell_type": "code",
   "execution_count": 18,
   "metadata": {},
   "outputs": [],
   "source": [
    "# Apply SMOTE\n",
    "# Apply SMOTE with n_neighbors less than or equal to the number of samples\n",
    "# smote = SMOTE(random_state=42)\n",
    "# X_resampled, y_resampled = smote.fit_resample(X_train, y_train)\n",
    "\n",
    "# # After SMOTE\n",
    "# print(\"Distribution of class labels after SMOTE:\")\n",
    "# print(np.bincount(y_resampled))"
   ]
  },
  {
   "cell_type": "code",
   "execution_count": 19,
   "metadata": {},
   "outputs": [],
   "source": [
    "# X_train = X_resampled\n",
    "# y_train = y_resampled"
   ]
  },
  {
   "cell_type": "code",
   "execution_count": 20,
   "metadata": {},
   "outputs": [],
   "source": [
    "y_train = np.ravel(y_train)\n",
    "y_test = np.ravel(y_test)"
   ]
  },
  {
   "cell_type": "code",
   "execution_count": 21,
   "metadata": {},
   "outputs": [
    {
     "name": "stdout",
     "output_type": "stream",
     "text": [
      "X_train (3764, 5)\n",
      "y_train (3764,)\n",
      "X_test (942, 5)\n",
      "y_test (942,)\n"
     ]
    }
   ],
   "source": [
    "print('X_train', X_train.shape)\n",
    "print('y_train', y_train.shape)\n",
    "print('X_test', X_test.shape)\n",
    "print('y_test', y_test.shape)"
   ]
  },
  {
   "cell_type": "code",
   "execution_count": 22,
   "metadata": {},
   "outputs": [],
   "source": [
    "from sklearn.preprocessing import StandardScaler\n",
    "\n",
    "# Scale the data\n",
    "scaler = StandardScaler()\n",
    "X_train = scaler.fit_transform(X_train)\n",
    "X_test = scaler.transform(X_test)"
   ]
  },
  {
   "cell_type": "markdown",
   "metadata": {},
   "source": [
    "## MLFLOW: Find the best model with multi params"
   ]
  },
  {
   "cell_type": "code",
   "execution_count": 23,
   "metadata": {},
   "outputs": [
    {
     "data": {
      "text/plain": [
       "<Experiment: artifact_location='mlflow-artifacts:/690430051855456577', creation_time=1701166351848, experiment_id='690430051855456577', last_update_time=1701166351848, lifecycle_stage='active', name='fertilizer_recommendation_w_crop', tags={}>"
      ]
     },
     "execution_count": 23,
     "metadata": {},
     "output_type": "execute_result"
    }
   ],
   "source": [
    "#experiment tracking\n",
    "import mlflow\n",
    "import os\n",
    "# This the dockerized method.\n",
    "# We build two docker containers, one for python/jupyter and another for mlflow.\n",
    "# The url `mlflow` is resolved into another container within the same composer.\n",
    "mlflow.set_tracking_uri(\"http://157.230.38.70:5000/\")\n",
    "# In the dockerized way, the user who runs this code will be `root`.\n",
    "# The MLflow will also log the run user_id as `root`.\n",
    "# To change that, we need to set this environ[\"LOGNAME\"] to your name.\n",
    "os.environ[\"LOGNAME\"] = \"myo\"\n",
    "# mlflow.create_experiment(name=\"chaky-diabetes-example\")  #create if you haven't create\n",
    "mlflow.set_experiment(experiment_name=\"fertilizer_recommendation_w_crop\")"
   ]
  },
  {
   "cell_type": "code",
   "execution_count": 24,
   "metadata": {},
   "outputs": [
    {
     "name": "stdout",
     "output_type": "stream",
     "text": [
      "Random Forest - Best Parameters: {'bootstrap': False, 'max_depth': 10, 'min_samples_leaf': 2, 'min_samples_split': 10, 'n_estimators': 50}, Best Accuracy: 0.5068993529428385\n",
      "Support Vector Machine - Best Parameters: {'C': 10, 'gamma': 'auto'}, Best Accuracy: 0.4654612048260858\n"
     ]
    },
    {
     "name": "stderr",
     "output_type": "stream",
     "text": [
      "/Users/myothiha/.conda/envs/DeepRefLearn/lib/python3.8/site-packages/_distutils_hack/__init__.py:18: UserWarning: Distutils was imported before Setuptools, but importing Setuptools also replaces the `distutils` module in `sys.modules`. This may lead to undesirable behaviors or errors. To avoid these issues, avoid using distutils directly, ensure that setuptools is installed in the traditional way (e.g. not an editable install), and/or make sure that setuptools is always imported before distutils.\n",
      "  warnings.warn(\n",
      "/Users/myothiha/.conda/envs/DeepRefLearn/lib/python3.8/site-packages/_distutils_hack/__init__.py:33: UserWarning: Setuptools is replacing distutils.\n",
      "  warnings.warn(\"Setuptools is replacing distutils.\")\n"
     ]
    },
    {
     "name": "stdout",
     "output_type": "stream",
     "text": [
      "K-Nearest Neighbors - Best Parameters: {'n_neighbors': 3, 'p': 1, 'weights': 'uniform'}, Best Accuracy: 0.5464927523946767\n"
     ]
    },
    {
     "name": "stderr",
     "output_type": "stream",
     "text": [
      "/Users/myothiha/.conda/envs/DeepRefLearn/lib/python3.8/site-packages/_distutils_hack/__init__.py:18: UserWarning: Distutils was imported before Setuptools, but importing Setuptools also replaces the `distutils` module in `sys.modules`. This may lead to undesirable behaviors or errors. To avoid these issues, avoid using distutils directly, ensure that setuptools is installed in the traditional way (e.g. not an editable install), and/or make sure that setuptools is always imported before distutils.\n",
      "  warnings.warn(\n",
      "/Users/myothiha/.conda/envs/DeepRefLearn/lib/python3.8/site-packages/_distutils_hack/__init__.py:33: UserWarning: Setuptools is replacing distutils.\n",
      "  warnings.warn(\"Setuptools is replacing distutils.\")\n"
     ]
    },
    {
     "name": "stdout",
     "output_type": "stream",
     "text": [
      "XGBoost - Best Parameters: {'colsample_bytree': 1.0, 'learning_rate': 0.01, 'max_depth': 7, 'n_estimators': 300, 'subsample': 1.0}, Best Accuracy: 0.5124809273544122\n"
     ]
    },
    {
     "name": "stderr",
     "output_type": "stream",
     "text": [
      "/Users/myothiha/.conda/envs/DeepRefLearn/lib/python3.8/site-packages/_distutils_hack/__init__.py:18: UserWarning: Distutils was imported before Setuptools, but importing Setuptools also replaces the `distutils` module in `sys.modules`. This may lead to undesirable behaviors or errors. To avoid these issues, avoid using distutils directly, ensure that setuptools is installed in the traditional way (e.g. not an editable install), and/or make sure that setuptools is always imported before distutils.\n",
      "  warnings.warn(\n",
      "/Users/myothiha/.conda/envs/DeepRefLearn/lib/python3.8/site-packages/_distutils_hack/__init__.py:33: UserWarning: Setuptools is replacing distutils.\n",
      "  warnings.warn(\"Setuptools is replacing distutils.\")\n"
     ]
    }
   ],
   "source": [
    "import numpy as np\n",
    "from sklearn.model_selection import cross_val_score, train_test_split, GridSearchCV\n",
    "from sklearn.ensemble import RandomForestClassifier\n",
    "from sklearn.svm import SVC\n",
    "from sklearn.linear_model import LogisticRegression\n",
    "from sklearn.neighbors import KNeighborsClassifier\n",
    "import xgboost as xgb\n",
    "import mlflow\n",
    "import mlflow.sklearn\n",
    "\n",
    "# Assuming X_train and y_train are defined somewhere in your code\n",
    "\n",
    "classifiers = {\n",
    "    'Random Forest': {\n",
    "        'model': RandomForestClassifier(),\n",
    "        'param_grid': {\n",
    "            'n_estimators': [50, 100, 200],\n",
    "            'max_depth': [None, 10, 20, 30],\n",
    "            'min_samples_split': [2, 5, 10],\n",
    "            'min_samples_leaf': [1, 2, 4],\n",
    "            'bootstrap': [True, False]\n",
    "        }\n",
    "    },\n",
    "    'Support Vector Machine': {\n",
    "        'model': SVC(),\n",
    "        'param_grid': {'C': [0.1, 1, 10], 'gamma': ['scale', 'auto']}\n",
    "    },\n",
    "    'K-Nearest Neighbors': {\n",
    "        'model': KNeighborsClassifier(),\n",
    "        'param_grid': {\n",
    "            'n_neighbors': [3, 5, 7, 9],\n",
    "            'weights': ['uniform', 'distance'],\n",
    "            'p': [1, 2]  # 1 for Manhattan distance (L1), 2 for Euclidean distance (L2)\n",
    "        }\n",
    "    },\n",
    "    'XGBoost': {\n",
    "        'model': xgb.XGBClassifier(),\n",
    "        'param_grid': {\n",
    "            'max_depth': [3, 5, 7],\n",
    "            'learning_rate': [0.001, 0.01, 0.1],\n",
    "            'n_estimators': [100, 200, 300],\n",
    "            'subsample': [0.8, 1.0],\n",
    "            'colsample_bytree': [0.8, 1.0],\n",
    "        }\n",
    "    },\n",
    "    # Add other classifiers as needed\n",
    "}\n",
    "\n",
    "experiment = 2\n",
    "mlflow.start_run(run_name=\"fertilizer_recommendation\" + str(experiment))\n",
    "\n",
    "for clf_name, clf_info in classifiers.items():\n",
    "    clf = clf_info['model']\n",
    "    param_grid = clf_info['param_grid']\n",
    "\n",
    "    grid_search = GridSearchCV(clf, param_grid, cv=5)\n",
    "    \n",
    "    with mlflow.start_run(run_name=clf_name, nested=True):\n",
    "        grid_search.fit(X_train, y_train)\n",
    "        \n",
    "        # Log best hyperparameters and corresponding metrics\n",
    "        mlflow.log_params(grid_search.best_params_)\n",
    "        mlflow.log_metric(\"accuracy\", grid_search.best_score_)\n",
    "        \n",
    "        print(f\"{clf_name} - Best Parameters: {grid_search.best_params_}, Best Accuracy: {grid_search.best_score_}\")\n",
    "        \n",
    "        model = grid_search.best_estimator_\n",
    "        signature = mlflow.models.infer_signature(X_train, model.predict(X_train))\n",
    "                            \n",
    "        mlflow.sklearn.log_model(model, artifact_path='model', signature=signature)\n",
    "\n",
    "best_classifier_name = max(classifiers, key=lambda k: grid_search.best_score_ if 'best_score_' in dir(grid_search) else 0)\n",
    "best_classifier_info = classifiers[best_classifier_name]\n",
    "best_model = GridSearchCV(best_classifier_info['model'], best_classifier_info['param_grid'], cv=5)\n",
    "best_model.fit(X_train, y_train)\n",
    "\n",
    "# Log the best model\n",
    "# with mlflow.start_run(nested=True):\n",
    "#     mlflow.sklearn.log_model(best_model, \"model\")\n",
    "#     mlflow.log_params(best_model.best_params_)\n",
    "#     mlflow.log_param(\"best_classifier\", best_classifier_name)\n",
    "#     print(f\"The best classifier is {best_classifier_name} with hyperparameters {best_model.best_params_}.\")\n",
    "\n",
    "mlflow.end_run()"
   ]
  },
  {
   "cell_type": "markdown",
   "metadata": {},
   "source": [
    "## Cross-Validation: Find best model"
   ]
  },
  {
   "cell_type": "code",
   "execution_count": 25,
   "metadata": {},
   "outputs": [],
   "source": [
    "# import numpy as np\n",
    "# from sklearn.model_selection import cross_val_score, train_test_split\n",
    "# from sklearn.ensemble import RandomForestClassifier\n",
    "# from sklearn.svm import SVC\n",
    "# from sklearn.linear_model import LogisticRegression\n",
    "# from sklearn.neighbors import KNeighborsClassifier\n",
    "# import xgboost as xgb\n",
    "\n",
    "# classifiers = {\n",
    "#     'Random Forest': RandomForestClassifier(),\n",
    "#     'Support Vector Machine': SVC(),\n",
    "#     'Logistic Regression': LogisticRegression(max_iter=1000),\n",
    "#     'K-Nearest Neighbors': KNeighborsClassifier(),\n",
    "#     'XGBoost': xgb.XGBClassifier(),\n",
    "#     # Add other classifiers as needed\n",
    "# }\n",
    "\n",
    "# for clf_name, clf in classifiers.items():\n",
    "#     scores = cross_val_score(clf, X_train, y_train, cv=5)  # Adjust cv value as needed\n",
    "#     print(f\"{clf_name}: Accuracy {np.mean(scores)} (+/- {np.std(scores)})\")\n",
    "\n",
    "\n",
    "# best_classifier_name = max(classifiers, key=lambda k: np.mean(cross_val_score(classifiers[k], X_train, y_train, cv=5)))\n",
    "# model = classifiers[best_classifier_name]\n",
    "# print(f\"The best classifier is {best_classifier_name}.\")"
   ]
  },
  {
   "cell_type": "markdown",
   "metadata": {},
   "source": [
    "## Grid Search: Find best params"
   ]
  },
  {
   "cell_type": "code",
   "execution_count": 26,
   "metadata": {},
   "outputs": [],
   "source": [
    "# import numpy as np\n",
    "# from sklearn.model_selection import GridSearchCV\n",
    "# from sklearn.metrics import accuracy_score\n",
    "# import xgboost as xgb\n",
    "\n",
    "# # Define the parameter grid for XGBoost\n",
    "# param_grid = {\n",
    "#     'max_depth': [3, 5, 7],\n",
    "#     'learning_rate': [0.001, 0.01, 0.1],\n",
    "#     'n_estimators': [100, 200, 300],\n",
    "#     'subsample': [0.8, 1.0],\n",
    "#     'colsample_bytree': [0.8, 1.0],\n",
    "# }\n",
    "\n",
    "# # Create an XGBoost classifier\n",
    "# xgb_classifier = xgb.XGBClassifier(objective='binary:logistic')\n",
    "\n",
    "# # Perform grid search with cross-validation\n",
    "# grid_search = GridSearchCV(xgb_classifier, param_grid, cv=5, scoring='accuracy', verbose=1)\n",
    "# grid_search.fit(X_train, y_train)\n",
    "\n",
    "# # Print the best parameters and corresponding accuracy\n",
    "# print(\"Best Parameters: \", grid_search.best_params_)\n",
    "# print(\"Best Cross-validated Accuracy: {:.4f}\".format(grid_search.best_score_))\n",
    "\n",
    "# # Get the best model from grid search\n",
    "# best_xgb_model = grid_search.best_estimator_\n",
    "\n",
    "# # Evaluate the best model on the test seta\n",
    "# y_pred = best_xgb_model.predict(X_test)\n",
    "# test_accuracy = accuracy_score(y_test, y_pred)\n",
    "# print(\"Test accuracy of the best XGBoost model: {:.4f}\".format(test_accuracy))\n"
   ]
  },
  {
   "cell_type": "code",
   "execution_count": 27,
   "metadata": {},
   "outputs": [],
   "source": [
    "model = best_model"
   ]
  },
  {
   "cell_type": "code",
   "execution_count": 28,
   "metadata": {},
   "outputs": [],
   "source": [
    "# import numpy as np\n",
    "# from sklearn.model_selection import GridSearchCV, train_test_split\n",
    "# from sklearn.neighbors import KNeighborsClassifier\n",
    "# from sklearn.metrics import accuracy_score\n",
    "\n",
    "# # Assuming 'X' is your feature matrix and 'y' is the target variable\n",
    "# # X_train, X_test, y_train, y_test = train_test_split(X, y, test_size=0.2, random_state=42)\n",
    "\n",
    "# # Convert y to a 1-dimensional array\n",
    "# y_train_flat = np.ravel(y_train)\n",
    "# y_test_flat = np.ravel(y_test)\n",
    "\n",
    "# # Define the parameter grid for KNN\n",
    "# param_grid = {\n",
    "#     'n_neighbors': [3, 5, 7, 9],\n",
    "#     'weights': ['uniform', 'distance'],\n",
    "#     'p': [1, 2]  # 1 for Manhattan distance (L1), 2 for Euclidean distance (L2)\n",
    "# }\n",
    "\n",
    "# # Create a KNN classifier\n",
    "# knn_classifier = KNeighborsClassifier()\n",
    "\n",
    "# # Perform grid search with cross-validation\n",
    "# grid_search = GridSearchCV(knn_classifier, param_grid, cv=5, scoring='accuracy', verbose=1, return_train_score=True)\n",
    "# grid_search.fit(X_train, y_train_flat)\n",
    "\n",
    "# # Print the best parameters and corresponding accuracy\n",
    "# print(\"Best Parameters: \", grid_search.best_params_)\n",
    "# print(\"Best Cross-validated Accuracy: {:.4f}\".format(grid_search.best_score_))\n",
    "\n",
    "# # Get the best model from grid search\n",
    "# best_knn_model = grid_search.best_estimator_\n",
    "\n",
    "# # Evaluate the best model on the test set\n",
    "# y_pred = best_knn_model.predict(X_test)\n",
    "# test_accuracy = accuracy_score(y_test_flat, y_pred)\n",
    "# print(\"Test accuracy of the best KNN model: {:.4f}\".format(test_accuracy))\n",
    "\n",
    "# model = best_knn_model"
   ]
  },
  {
   "cell_type": "code",
   "execution_count": 29,
   "metadata": {},
   "outputs": [],
   "source": [
    "# from multiprocessing import cpu_count\n",
    "# from sklearn.model_selection import GridSearchCV, StratifiedKFold\n",
    "\n",
    "# param_grid = {\n",
    "#     'n_estimators': [50, 100, 200],\n",
    "#     'max_depth': [None, 10, 20, 30],\n",
    "#     'min_samples_split': [2, 5, 10],\n",
    "#     'min_samples_leaf': [1, 2, 4],\n",
    "#     'bootstrap': [True, False]\n",
    "# }\n",
    "\n",
    "# # Create the grid search\n",
    "# rf_classifier = RandomForestClassifier()\n",
    "# stratified_kfold = StratifiedKFold(n_splits=5, shuffle=True, random_state=42)\n",
    "# grid = GridSearchCV(estimator=rf_classifier, param_grid=param_grid, cv=stratified_kfold, scoring='accuracy', n_jobs=cpu_count())\n",
    "\n",
    "# # Fit the grid search on the data\n",
    "# grid.fit(X_train, y_train)\n",
    "\n",
    "# # Print the best parameters\n",
    "# print(\"Best parameters:\", grid.best_params_)\n",
    "\n",
    "# # Print the cross-validated accuracy\n",
    "# print(\"Best cross-validated accuracy:\", grid.best_score_)\n",
    "\n",
    "# # Evaluate on the test set\n",
    "# test_accuracy = grid.score(X_test, y_test)\n",
    "# print(\"Test set accuracy:\", test_accuracy)"
   ]
  },
  {
   "cell_type": "code",
   "execution_count": 30,
   "metadata": {},
   "outputs": [],
   "source": [
    "import pickle\n",
    "model_file = open(b\"models/fertilizer.model\",\"wb\")\n",
    "pickle.dump(model, model_file)"
   ]
  },
  {
   "cell_type": "code",
   "execution_count": 31,
   "metadata": {},
   "outputs": [],
   "source": [
    "import pickle\n",
    "\n",
    "# Open the file in binary mode for reading\n",
    "with open(b\"models/fertilizer.model\", \"rb\") as model_file:\n",
    "    # Load the model from the file\n",
    "    model = pickle.load(model_file)"
   ]
  },
  {
   "cell_type": "code",
   "execution_count": 32,
   "metadata": {},
   "outputs": [
    {
     "name": "stdout",
     "output_type": "stream",
     "text": [
      "              precision    recall  f1-score   support\n",
      "\n",
      "           0       0.85      0.88      0.86        40\n",
      "           1       0.64      0.61      0.62       133\n",
      "           2       0.54      0.31      0.39        85\n",
      "           3       0.73      0.15      0.25        53\n",
      "           4       1.00      1.00      1.00        23\n",
      "           5       1.00      0.93      0.96        14\n",
      "           6       0.74      0.89      0.81       384\n",
      "           7       0.89      1.00      0.94        24\n",
      "           8       0.00      0.00      0.00        12\n",
      "           9       1.00      1.00      1.00        29\n",
      "          10       1.00      0.11      0.20        99\n",
      "          11       0.57      0.72      0.64        40\n",
      "          12       0.76      0.94      0.84        86\n",
      "          13       0.66      0.58      0.62       564\n",
      "          14       0.80      0.72      0.76        54\n",
      "          15       1.00      0.45      0.62        20\n",
      "          16       0.66      0.61      0.64       457\n",
      "          17       0.60      0.69      0.64       172\n",
      "          18       0.85      0.47      0.61       334\n",
      "          19       0.59      0.76      0.66      1126\n",
      "          20       0.00      0.00      0.00        15\n",
      "\n",
      "    accuracy                           0.66      3764\n",
      "   macro avg       0.71      0.61      0.62      3764\n",
      "weighted avg       0.68      0.66      0.65      3764\n",
      "\n"
     ]
    },
    {
     "name": "stderr",
     "output_type": "stream",
     "text": [
      "/Users/myothiha/.conda/envs/DeepRefLearn/lib/python3.8/site-packages/sklearn/metrics/_classification.py:1471: UndefinedMetricWarning: Precision and F-score are ill-defined and being set to 0.0 in labels with no predicted samples. Use `zero_division` parameter to control this behavior.\n",
      "  _warn_prf(average, modifier, msg_start, len(result))\n",
      "/Users/myothiha/.conda/envs/DeepRefLearn/lib/python3.8/site-packages/sklearn/metrics/_classification.py:1471: UndefinedMetricWarning: Precision and F-score are ill-defined and being set to 0.0 in labels with no predicted samples. Use `zero_division` parameter to control this behavior.\n",
      "  _warn_prf(average, modifier, msg_start, len(result))\n",
      "/Users/myothiha/.conda/envs/DeepRefLearn/lib/python3.8/site-packages/sklearn/metrics/_classification.py:1471: UndefinedMetricWarning: Precision and F-score are ill-defined and being set to 0.0 in labels with no predicted samples. Use `zero_division` parameter to control this behavior.\n",
      "  _warn_prf(average, modifier, msg_start, len(result))\n"
     ]
    }
   ],
   "source": [
    "from sklearn.metrics import classification_report\n",
    "\n",
    "yhat_train = model.predict(X_train)\n",
    "print(classification_report(y_train, yhat_train))"
   ]
  },
  {
   "cell_type": "code",
   "execution_count": 33,
   "metadata": {},
   "outputs": [
    {
     "name": "stdout",
     "output_type": "stream",
     "text": [
      "              precision    recall  f1-score   support\n",
      "\n",
      "           0       0.78      0.70      0.74        10\n",
      "           1       0.40      0.30      0.34        33\n",
      "           2       0.25      0.10      0.14        21\n",
      "           3       0.00      0.00      0.00        13\n",
      "           4       0.86      1.00      0.92         6\n",
      "           5       1.00      0.25      0.40         4\n",
      "           6       0.57      0.79      0.66        96\n",
      "           7       0.67      1.00      0.80         6\n",
      "           8       0.00      0.00      0.00         3\n",
      "           9       1.00      1.00      1.00         7\n",
      "          10       0.00      0.00      0.00        25\n",
      "          11       0.27      0.40      0.32        10\n",
      "          12       0.72      0.95      0.82        22\n",
      "          13       0.46      0.40      0.43       141\n",
      "          14       0.53      0.64      0.58        14\n",
      "          15       0.00      0.00      0.00         5\n",
      "          16       0.55      0.46      0.50       114\n",
      "          17       0.30      0.42      0.35        43\n",
      "          18       0.71      0.36      0.48        83\n",
      "          19       0.46      0.59      0.51       282\n",
      "          20       0.00      0.00      0.00         4\n",
      "\n",
      "    accuracy                           0.50       942\n",
      "   macro avg       0.45      0.45      0.43       942\n",
      "weighted avg       0.48      0.50      0.48       942\n",
      "\n"
     ]
    },
    {
     "name": "stderr",
     "output_type": "stream",
     "text": [
      "/Users/myothiha/.conda/envs/DeepRefLearn/lib/python3.8/site-packages/sklearn/metrics/_classification.py:1471: UndefinedMetricWarning: Precision and F-score are ill-defined and being set to 0.0 in labels with no predicted samples. Use `zero_division` parameter to control this behavior.\n",
      "  _warn_prf(average, modifier, msg_start, len(result))\n",
      "/Users/myothiha/.conda/envs/DeepRefLearn/lib/python3.8/site-packages/sklearn/metrics/_classification.py:1471: UndefinedMetricWarning: Precision and F-score are ill-defined and being set to 0.0 in labels with no predicted samples. Use `zero_division` parameter to control this behavior.\n",
      "  _warn_prf(average, modifier, msg_start, len(result))\n",
      "/Users/myothiha/.conda/envs/DeepRefLearn/lib/python3.8/site-packages/sklearn/metrics/_classification.py:1471: UndefinedMetricWarning: Precision and F-score are ill-defined and being set to 0.0 in labels with no predicted samples. Use `zero_division` parameter to control this behavior.\n",
      "  _warn_prf(average, modifier, msg_start, len(result))\n"
     ]
    }
   ],
   "source": [
    "from sklearn.metrics import classification_report\n",
    "\n",
    "yhat_test = model.predict(X_test)\n",
    "print(classification_report(y_test, yhat_test))"
   ]
  },
  {
   "cell_type": "code",
   "execution_count": 34,
   "metadata": {},
   "outputs": [],
   "source": [
    "top3_yhat_test = model.predict_proba(X_test)"
   ]
  },
  {
   "cell_type": "code",
   "execution_count": 35,
   "metadata": {},
   "outputs": [
    {
     "data": {
      "text/plain": [
       "0.9957537154989384"
      ]
     },
     "execution_count": 35,
     "metadata": {},
     "output_type": "execute_result"
    }
   ],
   "source": [
    "from sklearn.metrics import top_k_accuracy_score\n",
    "top_k_accuracy_score(y_test, top3_yhat_test, k=3)"
   ]
  }
 ],
 "metadata": {
  "kernelspec": {
   "display_name": "base",
   "language": "python",
   "name": "python3"
  },
  "language_info": {
   "codemirror_mode": {
    "name": "ipython",
    "version": 3
   },
   "file_extension": ".py",
   "mimetype": "text/x-python",
   "name": "python",
   "nbconvert_exporter": "python",
   "pygments_lexer": "ipython3",
   "version": "3.8.17"
  }
 },
 "nbformat": 4,
 "nbformat_minor": 2
}
